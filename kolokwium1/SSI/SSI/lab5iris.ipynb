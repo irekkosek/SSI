{
  "cells": [
    {
      "cell_type": "code",
      "execution_count": 109,
      "metadata": {
        "id": "j1Iawy48Xcsa"
      },
      "outputs": [],
      "source": [
        "\n",
        "import numpy as np\n",
        "import random as rn \n",
        "import pandas as pd\n",
        "import seaborn as sns\n"
      ]
    },
    {
      "cell_type": "code",
      "execution_count": 110,
      "metadata": {
        "colab": {
          "base_uri": "https://localhost:8080/",
          "height": 213
        },
        "id": "oVSfK9GGXitw",
        "outputId": "88cd66bc-75fa-4e56-abd9-a2cc30639759"
      },
      "outputs": [
        {
          "data": {
            "text/html": [
              "<div>\n",
              "<style scoped>\n",
              "    .dataframe tbody tr th:only-of-type {\n",
              "        vertical-align: middle;\n",
              "    }\n",
              "\n",
              "    .dataframe tbody tr th {\n",
              "        vertical-align: top;\n",
              "    }\n",
              "\n",
              "    .dataframe thead th {\n",
              "        text-align: right;\n",
              "    }\n",
              "</style>\n",
              "<table border=\"1\" class=\"dataframe\">\n",
              "  <thead>\n",
              "    <tr style=\"text-align: right;\">\n",
              "      <th></th>\n",
              "      <th>sepal.length</th>\n",
              "      <th>sepal.width</th>\n",
              "      <th>petal.length</th>\n",
              "      <th>petal.width</th>\n",
              "      <th>variety</th>\n",
              "    </tr>\n",
              "  </thead>\n",
              "  <tbody>\n",
              "    <tr>\n",
              "      <th>0</th>\n",
              "      <td>5.1</td>\n",
              "      <td>3.5</td>\n",
              "      <td>1.4</td>\n",
              "      <td>0.2</td>\n",
              "      <td>Setosa</td>\n",
              "    </tr>\n",
              "    <tr>\n",
              "      <th>1</th>\n",
              "      <td>4.9</td>\n",
              "      <td>3.0</td>\n",
              "      <td>1.4</td>\n",
              "      <td>0.2</td>\n",
              "      <td>Setosa</td>\n",
              "    </tr>\n",
              "    <tr>\n",
              "      <th>2</th>\n",
              "      <td>4.7</td>\n",
              "      <td>3.2</td>\n",
              "      <td>1.3</td>\n",
              "      <td>0.2</td>\n",
              "      <td>Setosa</td>\n",
              "    </tr>\n",
              "    <tr>\n",
              "      <th>3</th>\n",
              "      <td>4.6</td>\n",
              "      <td>3.1</td>\n",
              "      <td>1.5</td>\n",
              "      <td>0.2</td>\n",
              "      <td>Setosa</td>\n",
              "    </tr>\n",
              "    <tr>\n",
              "      <th>4</th>\n",
              "      <td>5.0</td>\n",
              "      <td>3.6</td>\n",
              "      <td>1.4</td>\n",
              "      <td>0.2</td>\n",
              "      <td>Setosa</td>\n",
              "    </tr>\n",
              "  </tbody>\n",
              "</table>\n",
              "</div>"
            ],
            "text/plain": [
              "   sepal.length  sepal.width  petal.length  petal.width variety\n",
              "0           5.1          3.5           1.4          0.2  Setosa\n",
              "1           4.9          3.0           1.4          0.2  Setosa\n",
              "2           4.7          3.2           1.3          0.2  Setosa\n",
              "3           4.6          3.1           1.5          0.2  Setosa\n",
              "4           5.0          3.6           1.4          0.2  Setosa"
            ]
          },
          "execution_count": 110,
          "metadata": {},
          "output_type": "execute_result"
        }
      ],
      "source": [
        "iris=pd.read_csv('iris.csv')\n",
        "iris.head()"
      ]
    },
    {
      "cell_type": "code",
      "execution_count": 111,
      "metadata": {
        "id": "KQox34XSXuyp"
      },
      "outputs": [],
      "source": [
        "class DataProcessing:\n",
        "    @staticmethod\n",
        "    def shuffle(x):\n",
        "        for i in range(len(x)-1,0,-1):\n",
        "            j=rn.randint(0,i-1)\n",
        "            x.iloc[i], x.iloc[j] = x.iloc[j], x.iloc[i]\n",
        "    @staticmethod\n",
        "    def normalization(x):\n",
        "        #x' = (x-min)/(max-min)\n",
        "        values = x.select_dtypes(exclude=[\"object\"]) #kopia zbioru x bez nazw kwiatów\n",
        "        columnNames=values.columns.tolist() #nazwy kolumn z atrybutami\n",
        "        for column in columnNames:\n",
        "            data = x.loc[:,column] #wszystkie rekordy z jednej z kolumn\n",
        "            max1=max(data)\n",
        "            min1=min(data)\n",
        "            for row in x.index: #range(0, len(x),1):\n",
        "                xprim=(x.at[row,column]-min1)/(max1-min1)\n",
        "                x.at[row,column]=xprim\n",
        "\n",
        "\n",
        "    @staticmethod\n",
        "    def split(x,k): #k=0.7 -> 70% do zbioru treningowego, 30% testowy\n",
        "        split_index=int(k*len(x))\n",
        "        df1 = x[:split_index] #divide dataframe by rows\n",
        "        df2 = x[split_index:]\n",
        "        \n",
        "        return df1, df2"
      ]
    },
    {
      "cell_type": "code",
      "execution_count": 112,
      "metadata": {
        "colab": {
          "base_uri": "https://localhost:8080/",
          "height": 269
        },
        "id": "GNdV16K_YCzi",
        "outputId": "1a518091-7f2c-4255-83dd-3949fabcb3fa"
      },
      "outputs": [
        {
          "data": {
            "text/html": [
              "<div>\n",
              "<style scoped>\n",
              "    .dataframe tbody tr th:only-of-type {\n",
              "        vertical-align: middle;\n",
              "    }\n",
              "\n",
              "    .dataframe tbody tr th {\n",
              "        vertical-align: top;\n",
              "    }\n",
              "\n",
              "    .dataframe thead th {\n",
              "        text-align: right;\n",
              "    }\n",
              "</style>\n",
              "<table border=\"1\" class=\"dataframe\">\n",
              "  <thead>\n",
              "    <tr style=\"text-align: right;\">\n",
              "      <th></th>\n",
              "      <th>sepal.length</th>\n",
              "      <th>sepal.width</th>\n",
              "      <th>petal.length</th>\n",
              "      <th>petal.width</th>\n",
              "      <th>variety</th>\n",
              "    </tr>\n",
              "  </thead>\n",
              "  <tbody>\n",
              "    <tr>\n",
              "      <th>0</th>\n",
              "      <td>7.1</td>\n",
              "      <td>3.0</td>\n",
              "      <td>5.9</td>\n",
              "      <td>2.1</td>\n",
              "      <td>Virginica</td>\n",
              "    </tr>\n",
              "    <tr>\n",
              "      <th>1</th>\n",
              "      <td>5.1</td>\n",
              "      <td>2.5</td>\n",
              "      <td>3.0</td>\n",
              "      <td>1.1</td>\n",
              "      <td>Versicolor</td>\n",
              "    </tr>\n",
              "    <tr>\n",
              "      <th>2</th>\n",
              "      <td>4.8</td>\n",
              "      <td>3.4</td>\n",
              "      <td>1.6</td>\n",
              "      <td>0.2</td>\n",
              "      <td>Setosa</td>\n",
              "    </tr>\n",
              "    <tr>\n",
              "      <th>3</th>\n",
              "      <td>6.7</td>\n",
              "      <td>3.0</td>\n",
              "      <td>5.2</td>\n",
              "      <td>2.3</td>\n",
              "      <td>Virginica</td>\n",
              "    </tr>\n",
              "    <tr>\n",
              "      <th>4</th>\n",
              "      <td>6.0</td>\n",
              "      <td>3.4</td>\n",
              "      <td>4.5</td>\n",
              "      <td>1.6</td>\n",
              "      <td>Versicolor</td>\n",
              "    </tr>\n",
              "  </tbody>\n",
              "</table>\n",
              "</div>"
            ],
            "text/plain": [
              "   sepal.length  sepal.width  petal.length  petal.width     variety\n",
              "0           7.1          3.0           5.9          2.1   Virginica\n",
              "1           5.1          2.5           3.0          1.1  Versicolor\n",
              "2           4.8          3.4           1.6          0.2      Setosa\n",
              "3           6.7          3.0           5.2          2.3   Virginica\n",
              "4           6.0          3.4           4.5          1.6  Versicolor"
            ]
          },
          "metadata": {},
          "output_type": "display_data"
        },
        {
          "data": {
            "text/html": [
              "<div>\n",
              "<style scoped>\n",
              "    .dataframe tbody tr th:only-of-type {\n",
              "        vertical-align: middle;\n",
              "    }\n",
              "\n",
              "    .dataframe tbody tr th {\n",
              "        vertical-align: top;\n",
              "    }\n",
              "\n",
              "    .dataframe thead th {\n",
              "        text-align: right;\n",
              "    }\n",
              "</style>\n",
              "<table border=\"1\" class=\"dataframe\">\n",
              "  <thead>\n",
              "    <tr style=\"text-align: right;\">\n",
              "      <th></th>\n",
              "      <th>sepal.length</th>\n",
              "      <th>sepal.width</th>\n",
              "      <th>petal.length</th>\n",
              "      <th>petal.width</th>\n",
              "      <th>variety</th>\n",
              "    </tr>\n",
              "  </thead>\n",
              "  <tbody>\n",
              "    <tr>\n",
              "      <th>105</th>\n",
              "      <td>5.7</td>\n",
              "      <td>2.8</td>\n",
              "      <td>4.5</td>\n",
              "      <td>1.3</td>\n",
              "      <td>Versicolor</td>\n",
              "    </tr>\n",
              "    <tr>\n",
              "      <th>106</th>\n",
              "      <td>5.5</td>\n",
              "      <td>4.2</td>\n",
              "      <td>1.4</td>\n",
              "      <td>0.2</td>\n",
              "      <td>Setosa</td>\n",
              "    </tr>\n",
              "    <tr>\n",
              "      <th>107</th>\n",
              "      <td>5.8</td>\n",
              "      <td>2.7</td>\n",
              "      <td>5.1</td>\n",
              "      <td>1.9</td>\n",
              "      <td>Virginica</td>\n",
              "    </tr>\n",
              "    <tr>\n",
              "      <th>108</th>\n",
              "      <td>7.7</td>\n",
              "      <td>2.6</td>\n",
              "      <td>6.9</td>\n",
              "      <td>2.3</td>\n",
              "      <td>Virginica</td>\n",
              "    </tr>\n",
              "    <tr>\n",
              "      <th>109</th>\n",
              "      <td>5.6</td>\n",
              "      <td>2.5</td>\n",
              "      <td>3.9</td>\n",
              "      <td>1.1</td>\n",
              "      <td>Versicolor</td>\n",
              "    </tr>\n",
              "  </tbody>\n",
              "</table>\n",
              "</div>"
            ],
            "text/plain": [
              "     sepal.length  sepal.width  petal.length  petal.width     variety\n",
              "105           5.7          2.8           4.5          1.3  Versicolor\n",
              "106           5.5          4.2           1.4          0.2      Setosa\n",
              "107           5.8          2.7           5.1          1.9   Virginica\n",
              "108           7.7          2.6           6.9          2.3   Virginica\n",
              "109           5.6          2.5           3.9          1.1  Versicolor"
            ]
          },
          "metadata": {},
          "output_type": "display_data"
        }
      ],
      "source": [
        "DataProcessing.shuffle(iris)\n",
        "# DataProcessing.normalization(iris)\n",
        "trainingSet, validatingSet = DataProcessing.split(iris,0.7)\n",
        "trainingSetShort = trainingSet[:5]\n",
        "validatingSetShort = validatingSet[:1]\n",
        "display(trainingSet.head(), validatingSet.head())"
      ]
    },
    {
      "cell_type": "code",
      "execution_count": 113,
      "metadata": {
        "id": "ObsflVedS0KQ"
      },
      "outputs": [],
      "source": [
        "class NaiveBayes:\n",
        "    @staticmethod\n",
        "    def mean(column):\n",
        "        # return (np.median(column))\n",
        "        return sum(column)/len(column)\n",
        "    \n",
        "    @staticmethod\n",
        "    def stDeviation(column : np.array, _mean): #średnie odchylenie\n",
        "        #np.sqrt(sum([(item - _mean)**2 for item in column])/len(column))\n",
        "        # return np.sqrt(sum((column - _mean)**2/len(column)))\n",
        "        tmp = 0\n",
        "        for i in column:\n",
        "            tmp += (i-_mean)**2\n",
        "        return np.sqrt(tmp/len(column))\n",
        "    \n",
        "    @staticmethod\n",
        "    def gaussProbability(x , mean, stDeviation): # def normalDist(x: np.array, mu, sigma) x in reality is np.array with 1 element \n",
        "        #https://en.wikipedia.org/wiki/Normal_distribution\n",
        "        exponent=(-1/2)*((x-mean)/stDeviation)**2\n",
        "        denominator = (stDeviation*np.sqrt(2*np.pi))\n",
        "        base = ((1/denominator)*np.e)\n",
        "        return base**exponent\n",
        "    \n",
        "    @staticmethod\n",
        "    def classify(trainingSet, sample):\n",
        "        #classes=trainingSet['variety'].unique().tolist() \n",
        "        classes=trainingSet[\"variety\"].value_counts().index #bierzemy wszystkie klasy\n",
        "        columnNames=trainingSet.select_dtypes(exclude=[\"object\"]).columns.tolist() #kolumny bez 'variety'\n",
        "        classesProducts={}\n",
        "        for className in classes: #dla każdej klasy\n",
        "            probabilityProduct=1    #liczymy iloczyn prawdopodobieństwa\n",
        "            DataForCurrentClass=trainingSet[trainingSet['variety']==className] \n",
        "            for columnName in columnNames: #na podstawie każdej kolumny\n",
        "                columnData=DataForCurrentClass.loc[:,columnName] \n",
        "                mean=NaiveBayes.mean(columnData) #liczymy składowe\n",
        "                stDeviation=NaiveBayes.stDeviation(columnData, mean)\n",
        "                gaussProbability=NaiveBayes.gaussProbability(sample[columnName], mean, stDeviation) #liczymy prawdopodobieństwa\n",
        "                # gaussProbability=NaiveBayes.gaussProbability(columnData, mean, stDeviation) #liczymy prawdopodobieństwa\n",
        "                probabilityProduct*=gaussProbability #mnożymy iloczyn\n",
        "            classesProducts[className]=probabilityProduct.tolist()\n",
        "        NaiveBayesClassificator=max(classesProducts, key=classesProducts.get)\n",
        "        #NaiveBayesClassificatorValue=classesProducts[NaiveBayesClassificator]\n",
        "        return NaiveBayesClassificator#, NaiveBayesClassificatorValue\n",
        "    @staticmethod\n",
        "    def calculate_positives(checked_vectors, validatingSet):\n",
        "        positives = 0\n",
        "        for tested_index in validatingSet.index:\n",
        "                closest_variety = checked_vectors.at[tested_index, \"variety\"]\n",
        "                true_variety = validatingSet.at[tested_index, \"variety\"]\n",
        "                if(closest_variety == true_variety):\n",
        "                    positives += 1\n",
        "        return positives\n",
        "    @staticmethod\n",
        "    def calculate_accuracy(positives, validatingSet):\n",
        "        acc=positives/len(validatingSet)\n",
        "        return acc\n",
        "\n",
        "        \n",
        "\n",
        "\n",
        "\n",
        "  "
      ]
    },
    {
      "cell_type": "code",
      "execution_count": 114,
      "metadata": {
        "id": "s4mEoaUYeC1I"
      },
      "outputs": [],
      "source": [
        "# #TODO:\n",
        "# 0. dla wszystkich klas wyznaczyc Naiwny klasyfikator bayesa licząc max z iloczynów prawdopodobieństw  :\n",
        "# 1. dla każdej klasy policzyć iloczyn prawdopodobieństw:\n",
        "# 1. dla każdej kolumny policzyć prawodpodbieństwo gausa \n",
        "# 3. dla każdego prawodpodbieństwa gaussa policzyc średnią/mediane(mu) i rozkład standardowy(sigma)\n",
        "# 4. dla każdej kolumny policzyć średnią i rozkład standardowy\n",
        " \n"
      ]
    },
    {
      "cell_type": "code",
      "execution_count": 115,
      "metadata": {
        "colab": {
          "base_uri": "https://localhost:8080/"
        },
        "id": "NM3ClQfrS0KS",
        "outputId": "cf1a5ada-afc2-4305-d175-77487fe78a0b"
      },
      "outputs": [
        {
          "name": "stdout",
          "output_type": "stream",
          "text": [
            "Versicolor\n"
          ]
        },
        {
          "name": "stderr",
          "output_type": "stream",
          "text": [
            "/tmp/ipykernel_412/789167897.py:21: RuntimeWarning: divide by zero encountered in double_scalars\n",
            "  base = ((1/denominator)*np.e)\n"
          ]
        }
      ],
      "source": [
        "print(NaiveBayes.classify(trainingSet=trainingSetShort, sample=validatingSetShort))\n",
        "\n",
        "#zapytać o przypadek kiedy np.\n",
        "# sepal.length\tsepal.width\tpetal.length\tpetal.width\tvariety\n",
        "# 0\t6.1\t2.9\t4.7\t1.4\tVersicolor\n",
        "# 1\t5.0\t3.2\t1.2\t0.2\tSetosa\n",
        "# 2\t6.4\t3.1\t5.5\t1.8\tVirginica\n",
        "# 3\t4.4\t3.0\t1.3\t0.2\tSetosa\n",
        "# 4\t6.1\t2.8\t4.0\t1.3\tVersicolor\n",
        "# sepal.length\tsepal.width\tpetal.length\tpetal.width\tvariety\n",
        "# 105\t6.4\t3.2\t4.5\t1.5\tVersicolor\n",
        "\n",
        "# ('Versicolor', [0.0])\n",
        "# /tmp/ipykernel_18995/3763426402.py:19: RuntimeWarning: divide by zero encountered in double_scalars\n",
        "#   base = ((1/denominator)*np.e)\n",
        "\n",
        "#oraz\n",
        "\n",
        "# sepal.length\tsepal.width\tpetal.length\tpetal.width\tvariety\n",
        "# 0\t0.083333\t0.500000\t0.067797\t0.041667\tSetosa\n",
        "# 1\t0.416667\t0.833333\t0.033898\t0.041667\tSetosa\n",
        "# 2\t0.444444\t0.416667\t0.542373\t0.583333\tVersicolor\n",
        "# 3\t0.666667\t0.416667\t0.677966\t0.666667\tVersicolor\n",
        "# 4\t0.388889\t0.416667\t0.542373\t0.458333\tVersicolor\n",
        "# sepal.length\tsepal.width\tpetal.length\tpetal.width\tvariety\n",
        "# 105\t0.611111\t0.416667\t0.762712\t0.708333\tVirginica\n",
        "\n",
        "#wtedy output:\n",
        "# ('Versicolor', [2.389652267474466e-15])\n",
        "# /tmp/ipykernel_18995/3580309777.py:19: RuntimeWarning: divide by zero encountered in double_scalars\n",
        "#   base = ((1/denominator)*np.e)\n",
        "\n"
      ]
    },
    {
      "cell_type": "code",
      "execution_count": 116,
      "metadata": {
        "id": "GI6f64uVS0KT"
      },
      "outputs": [],
      "source": [
        "#notes:\n",
        "# a_test = [1,2,3]\n",
        "# [item-2 for item in a_test]\n",
        "\n",
        "\n",
        "#         classes=trainingSet['variety'].unique().tolist() #bierzemy wszystkie klasy\n",
        "#         for className in classes: #dla każdej klasy\n",
        "#             columns=validatingSet.select_dtypes(exclude=[\"object\"]).columns().tolist() \n",
        "#             data=validatingSet[validatingSet['variety']==className]\n",
        "#             for column in columns:\n",
        "#                 dataFromOneColumnForOneClass=data.loc[:,column]\n",
        "# myset=trainingSet.select_dtypes(exclude=[\"object\"]).columns\n",
        "# print(myset)\n",
        "\n",
        "# classes=trainingSet[\"variety\"].value_counts().index\n",
        "# print(classes)\n",
        "# columnNames=trainingSet.select_dtypes(exclude=[\"object\"]).columns.tolist()\n",
        "\n",
        "# print(columnNames)\n"
      ]
    },
    {
      "cell_type": "code",
      "execution_count": 117,
      "metadata": {
        "id": "JIpIZ_6_UWqY"
      },
      "outputs": [],
      "source": [
        "#lab1\n",
        "#wywołanie wykresów \n",
        "#przetwarzanie danych (normalizacja) (żeby wszystkie dane były w przedziale)\n",
        "#wzór x'=(x-min(x))/(max-min) można też użyć innych funkcji\n",
        "\n",
        "#lab2\n",
        "#KNN:\n",
        "#1.policzyć odległości (manhatańska, minkowsky, euklidesowa?) (można losowe) \n",
        "#2.sortowanie (zmienić sposób sortowania)\n",
        "#3. wzięcie k najbliższych (zmieniać k, dodać wagi np d<1- waga 1)\n",
        "#4. wzrócenie wyniku\n",
        "\n",
        "#lab3 zbiory miękkie (spodziewamy się)\n",
        "#tabela klas i atrybutów\n",
        "#atrybuty na 0 i 1\n",
        "\n",
        "\n",
        "#lab4. NaiveBayes\n",
        "#można zmienic funkcje liczenia prawdopodobieństwa\n",
        "#dodać wagi\n",
        "\n",
        "#błedy dzielić zbiory na dobre przedziały (np 0.6)\n"
      ]
    },
    {
      "cell_type": "code",
      "execution_count": 118,
      "metadata": {
        "id": "0UtZTj_TnF_Q"
      },
      "outputs": [
        {
          "data": {
            "text/plain": [
              "0.9777777777777777"
            ]
          },
          "metadata": {},
          "output_type": "display_data"
        }
      ],
      "source": [
        "def compute_testing_set(trainingSet, validatingSet):\n",
        "    testingSet=validatingSet.select_dtypes(exclude=[\"object\"])\n",
        "    varieties=[]\n",
        "    for _ , vector in testingSet.iterrows():\n",
        "      varieties.append(NaiveBayes.classify(trainingSet=trainingSet, sample=vector))\n",
        "    testingSet['variety']=varieties\n",
        "    return testingSet\n",
        "    \n",
        "testingSet = compute_testing_set(trainingSet, validatingSet)\n",
        "positives=NaiveBayes.calculate_positives(testingSet, validatingSet)\n",
        "accuracy=NaiveBayes.calculate_accuracy(positives, validatingSet)\n",
        "display(accuracy)"
      ]
    },
    {
      "cell_type": "code",
      "execution_count": 119,
      "metadata": {
        "colab": {
          "base_uri": "https://localhost:8080/",
          "height": 144
        },
        "id": "Fs98xkkCXJL0",
        "outputId": "b209077c-6514-4ffe-af28-e5062f635597"
      },
      "outputs": [],
      "source": [
        "# testingSet=validatingSet.select_dtypes(exclude=[\"object\"])\n",
        "\n",
        "# display(validatingSet.head())\n",
        "# display(len(validatingSet))\n",
        "\n",
        "# display(testingSet.head())\n",
        "# display(len(testingSet))\n",
        "\n",
        "\n",
        "# varieties=[]\n",
        "# for index, vector in testingSet.iterrows():\n",
        "#   # display(index)\n",
        "#   # display(vector)\n",
        "#   varieties.append(NaiveBayes.classify(trainingSet=trainingSet, sample=vector))\n",
        "# # display(varieties)\n",
        "# testingSet['variety']=varieties\n",
        "# display(testingSet.head())\n",
        "# display(len(testingSet))\n",
        "\n",
        "# positives=NaiveBayes.calculate_positives(testingSet, validatingSet)\n",
        "# display(NaiveBayes.calculate_accuracy(positives, validatingSet))"
      ]
    }
  ],
  "metadata": {
    "colab": {
      "provenance": [],
      "toc_visible": true
    },
    "kernelspec": {
      "display_name": "Python 3",
      "name": "python3"
    },
    "language_info": {
      "codemirror_mode": {
        "name": "ipython",
        "version": 3
      },
      "file_extension": ".py",
      "mimetype": "text/x-python",
      "name": "python",
      "nbconvert_exporter": "python",
      "pygments_lexer": "ipython3",
      "version": "3.9.2"
    }
  },
  "nbformat": 4,
  "nbformat_minor": 0
}
