{
  "cells": [
    {
      "cell_type": "code",
      "execution_count": 1,
      "metadata": {
        "id": "11iEhWRyVA2E"
      },
      "outputs": [],
      "source": [
        "\n",
        "import numpy as np\n",
        "import random as rn \n",
        "import pandas as pd\n",
        "import seaborn as sns"
      ]
    },
    {
      "cell_type": "code",
      "execution_count": 2,
      "metadata": {
        "colab": {
          "base_uri": "https://localhost:8080/",
          "height": 175
        },
        "id": "n2Rvp43LVA2N",
        "outputId": "5b40caab-df5c-4028-da18-b3782337927f"
      },
      "outputs": [
        {
          "data": {
            "text/html": [
              "<div>\n",
              "<style scoped>\n",
              "    .dataframe tbody tr th:only-of-type {\n",
              "        vertical-align: middle;\n",
              "    }\n",
              "\n",
              "    .dataframe tbody tr th {\n",
              "        vertical-align: top;\n",
              "    }\n",
              "\n",
              "    .dataframe thead th {\n",
              "        text-align: right;\n",
              "    }\n",
              "</style>\n",
              "<table border=\"1\" class=\"dataframe\">\n",
              "  <thead>\n",
              "    <tr style=\"text-align: right;\">\n",
              "      <th></th>\n",
              "      <th>product_name</th>\n",
              "      <th>red</th>\n",
              "      <th>orange</th>\n",
              "      <th>sweet</th>\n",
              "      <th>spicy</th>\n",
              "      <th>round</th>\n",
              "      <th>spiky</th>\n",
              "      <th>has_seeds</th>\n",
              "      <th>soft</th>\n",
              "    </tr>\n",
              "  </thead>\n",
              "  <tbody>\n",
              "    <tr>\n",
              "      <th>0</th>\n",
              "      <td>paprika</td>\n",
              "      <td>1</td>\n",
              "      <td>1</td>\n",
              "      <td>1</td>\n",
              "      <td>1</td>\n",
              "      <td>1</td>\n",
              "      <td>1</td>\n",
              "      <td>1</td>\n",
              "      <td>0</td>\n",
              "    </tr>\n",
              "    <tr>\n",
              "      <th>1</th>\n",
              "      <td>tomato</td>\n",
              "      <td>1</td>\n",
              "      <td>0</td>\n",
              "      <td>1</td>\n",
              "      <td>0</td>\n",
              "      <td>1</td>\n",
              "      <td>0</td>\n",
              "      <td>1</td>\n",
              "      <td>1</td>\n",
              "    </tr>\n",
              "    <tr>\n",
              "      <th>2</th>\n",
              "      <td>onion</td>\n",
              "      <td>1</td>\n",
              "      <td>0</td>\n",
              "      <td>1</td>\n",
              "      <td>1</td>\n",
              "      <td>1</td>\n",
              "      <td>0</td>\n",
              "      <td>0</td>\n",
              "      <td>0</td>\n",
              "    </tr>\n",
              "    <tr>\n",
              "      <th>3</th>\n",
              "      <td>carrot</td>\n",
              "      <td>0</td>\n",
              "      <td>1</td>\n",
              "      <td>1</td>\n",
              "      <td>0</td>\n",
              "      <td>0</td>\n",
              "      <td>1</td>\n",
              "      <td>0</td>\n",
              "      <td>0</td>\n",
              "    </tr>\n",
              "  </tbody>\n",
              "</table>\n",
              "</div>"
            ],
            "text/plain": [
              "  product_name  red  orange  sweet  spicy  round  spiky  has_seeds  soft\n",
              "0      paprika    1       1      1      1      1      1          1     0\n",
              "1       tomato    1       0      1      0      1      0          1     1\n",
              "2        onion    1       0      1      1      1      0          0     0\n",
              "3       carrot    0       1      1      0      0      1          0     0"
            ]
          },
          "execution_count": 2,
          "metadata": {},
          "output_type": "execute_result"
        }
      ],
      "source": [
        "products =pd.read_csv('products.csv')\n",
        "products.head()"
      ]
    },
    {
      "cell_type": "code",
      "execution_count": 3,
      "metadata": {
        "id": "KPql5A-4VA2O"
      },
      "outputs": [],
      "source": [
        "# 1. stwórz zbiór z 4 produktami i zbiór z 8 cechami\n",
        "# 2. stwórz tabele cech każdego produktu i wypełnij ją\n",
        "# 3. stwórz przykładowe zapytanie\n",
        "# 4. Wylicz najbardziej pasujący do zapytania produkt na podstawie:\n",
        "# max(Sum(waga_z_pytania_*waga_produktu))"
      ]
    },
    {
      "cell_type": "code",
      "execution_count": 4,
      "metadata": {
        "id": "Zc-xIYFCVA2P"
      },
      "outputs": [],
      "source": [
        "request=[0.2,0.2,0.1,0.1,0.15,0.15,0.05,0.05]"
      ]
    },
    {
      "cell_type": "code",
      "execution_count": 5,
      "metadata": {
        "colab": {
          "base_uri": "https://localhost:8080/",
          "height": 193
        },
        "id": "ZVAQ58qJVA2P",
        "outputId": "a2a88107-f710-4c04-b094-07de7219e5e0"
      },
      "outputs": [
        {
          "data": {
            "text/html": [
              "<div>\n",
              "<style scoped>\n",
              "    .dataframe tbody tr th:only-of-type {\n",
              "        vertical-align: middle;\n",
              "    }\n",
              "\n",
              "    .dataframe tbody tr th {\n",
              "        vertical-align: top;\n",
              "    }\n",
              "\n",
              "    .dataframe thead th {\n",
              "        text-align: right;\n",
              "    }\n",
              "</style>\n",
              "<table border=\"1\" class=\"dataframe\">\n",
              "  <thead>\n",
              "    <tr style=\"text-align: right;\">\n",
              "      <th></th>\n",
              "      <th>product_name</th>\n",
              "      <th>red</th>\n",
              "      <th>orange</th>\n",
              "      <th>sweet</th>\n",
              "      <th>spicy</th>\n",
              "      <th>round</th>\n",
              "      <th>spiky</th>\n",
              "      <th>has_seeds</th>\n",
              "      <th>soft</th>\n",
              "      <th>fuzzy_result</th>\n",
              "    </tr>\n",
              "  </thead>\n",
              "  <tbody>\n",
              "    <tr>\n",
              "      <th>0</th>\n",
              "      <td>paprika</td>\n",
              "      <td>1</td>\n",
              "      <td>1</td>\n",
              "      <td>1</td>\n",
              "      <td>1</td>\n",
              "      <td>1</td>\n",
              "      <td>1</td>\n",
              "      <td>1</td>\n",
              "      <td>0</td>\n",
              "      <td>0.95</td>\n",
              "    </tr>\n",
              "    <tr>\n",
              "      <th>1</th>\n",
              "      <td>tomato</td>\n",
              "      <td>1</td>\n",
              "      <td>0</td>\n",
              "      <td>1</td>\n",
              "      <td>0</td>\n",
              "      <td>1</td>\n",
              "      <td>0</td>\n",
              "      <td>1</td>\n",
              "      <td>1</td>\n",
              "      <td>0.55</td>\n",
              "    </tr>\n",
              "    <tr>\n",
              "      <th>2</th>\n",
              "      <td>onion</td>\n",
              "      <td>1</td>\n",
              "      <td>0</td>\n",
              "      <td>1</td>\n",
              "      <td>1</td>\n",
              "      <td>1</td>\n",
              "      <td>0</td>\n",
              "      <td>0</td>\n",
              "      <td>0</td>\n",
              "      <td>0.55</td>\n",
              "    </tr>\n",
              "    <tr>\n",
              "      <th>3</th>\n",
              "      <td>carrot</td>\n",
              "      <td>0</td>\n",
              "      <td>1</td>\n",
              "      <td>1</td>\n",
              "      <td>0</td>\n",
              "      <td>0</td>\n",
              "      <td>1</td>\n",
              "      <td>0</td>\n",
              "      <td>0</td>\n",
              "      <td>0.45</td>\n",
              "    </tr>\n",
              "  </tbody>\n",
              "</table>\n",
              "</div>"
            ],
            "text/plain": [
              "  product_name  red  orange  sweet  spicy  round  spiky  has_seeds  soft   \n",
              "0      paprika    1       1      1      1      1      1          1     0  \\\n",
              "1       tomato    1       0      1      0      1      0          1     1   \n",
              "2        onion    1       0      1      1      1      0          0     0   \n",
              "3       carrot    0       1      1      0      0      1          0     0   \n",
              "\n",
              "   fuzzy_result  \n",
              "0          0.95  \n",
              "1          0.55  \n",
              "2          0.55  \n",
              "3          0.45  "
            ]
          },
          "metadata": {},
          "output_type": "display_data"
        },
        {
          "data": {
            "text/plain": [
              "'paprika'"
            ]
          },
          "metadata": {},
          "output_type": "display_data"
        }
      ],
      "source": [
        "class SoftSet:\n",
        "    @staticmethod\n",
        "    def calculate_soft_set_query(soft_set, query):\n",
        "        products=soft_set\n",
        "        request=query\n",
        "        result_df = products\n",
        "        results=[]\n",
        "        for values in result_df.select_dtypes(exclude=[\"object\"]).values:\n",
        "            single_result=0\n",
        "            for product_wage,request_wage in zip(values,request):\n",
        "                single_result+= product_wage*request_wage\n",
        "            results.append(single_result)\n",
        "        result_df[\"fuzzy_result\"]=results\n",
        "        display(result_df)\n",
        "        display(result_df.loc[result_df['fuzzy_result'].idxmax(),\"product_name\"])\n",
        "\n",
        "SoftSet.calculate_soft_set_query(products, request)"
      ]
    },
    {
      "cell_type": "code",
      "execution_count": 6,
      "metadata": {
        "id": "xR3v_PHNVA2Q"
      },
      "outputs": [],
      "source": [
        "#TODO: przenieść cały proces na irysy\n",
        "#1. normalnie można używać przedziałów, ale na zajęciach trzeba to robić na wartościach bitowych, wieć zaokroąglamy\n",
        "#(albo zwyczajnie albo według rozkładu) do zer i jedynek wszystkie wartości\n",
        "#2.wykonujemy cały algorytm na irysach  "
      ]
    }
  ],
  "metadata": {
    "colab": {
      "provenance": []
    },
    "kernelspec": {
      "display_name": "Python 3",
      "language": "python",
      "name": "python3"
    },
    "language_info": {
      "codemirror_mode": {
        "name": "ipython",
        "version": 3
      },
      "file_extension": ".py",
      "mimetype": "text/x-python",
      "name": "python",
      "nbconvert_exporter": "python",
      "pygments_lexer": "ipython3",
      "version": "3.10.6"
    }
  },
  "nbformat": 4,
  "nbformat_minor": 0
}
