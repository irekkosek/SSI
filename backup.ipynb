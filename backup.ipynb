{
 "cells": [
  {
   "cell_type": "code",
   "execution_count": null,
   "metadata": {},
   "outputs": [],
   "source": [
    "class DataProcessing:\n",
    "    @staticmethod\n",
    "    def round_values(x):\n",
    "        for column in x.select_dtypes(exclude=[\"int64\"]).columns:\n",
    "            for row in x.index:\n",
    "                x.at[row,column]=round(x.at[row,column],0)\n",
    "\n",
    "\n",
    "    @staticmethod\n",
    "    def shuffle(x):\n",
    "        for i in range(len(x)-1,0,-1):\n",
    "            j=rn.randint(0,i-1)\n",
    "            x.iloc[i], x.iloc[j] = x.iloc[j], x.iloc[i]\n",
    "\n"
   ]
  },
  {
   "cell_type": "code",
   "execution_count": null,
   "metadata": {},
   "outputs": [],
   "source": [
    "# DataProcessing.normalization(seeds)\n",
    "# DataProcessing.shuffle(seeds)\n",
    "# trainingSetShort = trainingSet[:5]\n",
    "# validatingSetShort = validatingSet[:1]\n"
   ]
  },
  {
   "cell_type": "code",
   "execution_count": null,
   "metadata": {},
   "outputs": [],
   "source": [
    "\n",
    "    @staticmethod\n",
    "    def gaussProbability(x , mean, stDeviation): # def normalDist(x: np.array, mu, sigma) x in reality is np.array with 1 element \n",
    "        #https://en.wikipedia.org/wiki/Normal_distribution\n",
    "        # exponent=(-1/2)*((x-mean)/stDeviation)**2\n",
    "        # denominator = (stDeviation*np.sqrt(2*np.pi))\n",
    "        # base = ((1/denominator)*np.e)\n",
    "        # return base**exponent"
   ]
  }
 ],
 "metadata": {
  "language_info": {
   "name": "python"
  },
  "orig_nbformat": 4
 },
 "nbformat": 4,
 "nbformat_minor": 2
}
