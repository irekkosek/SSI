{
 "cells": [
  {
   "cell_type": "code",
   "execution_count": 222,
   "id": "81087572",
   "metadata": {},
   "outputs": [
    {
     "data": {
      "text/html": [
       "<div>\n",
       "<style scoped>\n",
       "    .dataframe tbody tr th:only-of-type {\n",
       "        vertical-align: middle;\n",
       "    }\n",
       "\n",
       "    .dataframe tbody tr th {\n",
       "        vertical-align: top;\n",
       "    }\n",
       "\n",
       "    .dataframe thead th {\n",
       "        text-align: right;\n",
       "    }\n",
       "</style>\n",
       "<table border=\"1\" class=\"dataframe\">\n",
       "  <thead>\n",
       "    <tr style=\"text-align: right;\">\n",
       "      <th></th>\n",
       "      <th>index</th>\n",
       "      <th>id_</th>\n",
       "      <th>name</th>\n",
       "      <th>slug</th>\n",
       "      <th>video_url</th>\n",
       "      <th>thumbnail_url</th>\n",
       "      <th>tags</th>\n",
       "      <th>cook_time</th>\n",
       "      <th>prep_time</th>\n",
       "      <th>total_time</th>\n",
       "      <th>ratings_negative</th>\n",
       "      <th>ratings_positive</th>\n",
       "      <th>score</th>\n",
       "      <th>protein</th>\n",
       "      <th>fat</th>\n",
       "      <th>calories</th>\n",
       "      <th>sugar</th>\n",
       "      <th>carbohydrates</th>\n",
       "      <th>fiber</th>\n",
       "    </tr>\n",
       "  </thead>\n",
       "  <tbody>\n",
       "    <tr>\n",
       "      <th>0</th>\n",
       "      <td>0</td>\n",
       "      <td>868</td>\n",
       "      <td>Homemade Cinnamon Rolls</td>\n",
       "      <td>homemade-cinnamon-rolls</td>\n",
       "      <td>https://vid.tasty.co/output/25812/mp4_640x640/...</td>\n",
       "      <td>https://img.buzzfeed.com/video-api-prod/assets...</td>\n",
       "      <td>7336057,6854262,5993378,5831534,1280501,124779...</td>\n",
       "      <td>30</td>\n",
       "      <td>30</td>\n",
       "      <td>151</td>\n",
       "      <td>475</td>\n",
       "      <td>17340</td>\n",
       "      <td>98.0</td>\n",
       "      <td>7.0</td>\n",
       "      <td>21.0</td>\n",
       "      <td>479.0</td>\n",
       "      <td>24.0</td>\n",
       "      <td>63.0</td>\n",
       "      <td>1.0</td>\n",
       "    </tr>\n",
       "    <tr>\n",
       "      <th>1</th>\n",
       "      <td>1</td>\n",
       "      <td>6124</td>\n",
       "      <td>Whipped Coffee</td>\n",
       "      <td>whipped-coffee</td>\n",
       "      <td>https://vid.tasty.co/output/163616/landscape_4...</td>\n",
       "      <td>https://img.buzzfeed.com/video-api-prod/assets...</td>\n",
       "      <td>64487,64470,8091916,6718867,64483,64471,64465,...</td>\n",
       "      <td>0</td>\n",
       "      <td>15</td>\n",
       "      <td>15</td>\n",
       "      <td>777</td>\n",
       "      <td>8483</td>\n",
       "      <td>92.0</td>\n",
       "      <td>0.0</td>\n",
       "      <td>0.0</td>\n",
       "      <td>69.0</td>\n",
       "      <td>18.0</td>\n",
       "      <td>18.0</td>\n",
       "      <td>0.0</td>\n",
       "    </tr>\n",
       "    <tr>\n",
       "      <th>2</th>\n",
       "      <td>2</td>\n",
       "      <td>3094</td>\n",
       "      <td>Fluffy Pancakes</td>\n",
       "      <td>fluffy-perfect-pancakes</td>\n",
       "      <td>https://vid.tasty.co/output/65088/landscape_48...</td>\n",
       "      <td>https://img.buzzfeed.com/thumbnailer-prod-us-e...</td>\n",
       "      <td>64469,8091748,8091747,8091917,5831534,1280510,...</td>\n",
       "      <td>20</td>\n",
       "      <td>10</td>\n",
       "      <td>35</td>\n",
       "      <td>1099</td>\n",
       "      <td>5009</td>\n",
       "      <td>83.0</td>\n",
       "      <td>36.0</td>\n",
       "      <td>50.0</td>\n",
       "      <td>1102.0</td>\n",
       "      <td>12.0</td>\n",
       "      <td>123.0</td>\n",
       "      <td>3.0</td>\n",
       "    </tr>\n",
       "    <tr>\n",
       "      <th>3</th>\n",
       "      <td>3</td>\n",
       "      <td>4693</td>\n",
       "      <td>How to Make Cinnamon Rolls</td>\n",
       "      <td>tasty-101-cinnamon-rolls</td>\n",
       "      <td>https://vid.tasty.co/output/121022/landscape_4...</td>\n",
       "      <td>https://img.buzzfeed.com/thumbnailer-prod-us-e...</td>\n",
       "      <td>64469,5831534,64483,64484,65843,1280506,124778...</td>\n",
       "      <td>30</td>\n",
       "      <td>25</td>\n",
       "      <td>190</td>\n",
       "      <td>207</td>\n",
       "      <td>6649</td>\n",
       "      <td>97.0</td>\n",
       "      <td>8.0</td>\n",
       "      <td>25.0</td>\n",
       "      <td>562.0</td>\n",
       "      <td>28.0</td>\n",
       "      <td>74.0</td>\n",
       "      <td>1.0</td>\n",
       "    </tr>\n",
       "    <tr>\n",
       "      <th>4</th>\n",
       "      <td>4</td>\n",
       "      <td>1655</td>\n",
       "      <td>Healthy Banana Pancakes</td>\n",
       "      <td>healthy-banana-pancakes</td>\n",
       "      <td>https://vid.tasty.co/output/27116/mp4_640x640/...</td>\n",
       "      <td>https://img.buzzfeed.com/thumbnailer-prod-us-e...</td>\n",
       "      <td>64469,64463,64470,8091916,1247785,1247788,1247...</td>\n",
       "      <td>0</td>\n",
       "      <td>0</td>\n",
       "      <td>0</td>\n",
       "      <td>591</td>\n",
       "      <td>3853</td>\n",
       "      <td>87.0</td>\n",
       "      <td>7.0</td>\n",
       "      <td>4.0</td>\n",
       "      <td>184.0</td>\n",
       "      <td>9.0</td>\n",
       "      <td>30.0</td>\n",
       "      <td>4.0</td>\n",
       "    </tr>\n",
       "  </tbody>\n",
       "</table>\n",
       "</div>"
      ],
      "text/plain": [
       "   index   id_                        name                      slug  \\\n",
       "0      0   868     Homemade Cinnamon Rolls   homemade-cinnamon-rolls   \n",
       "1      1  6124              Whipped Coffee            whipped-coffee   \n",
       "2      2  3094             Fluffy Pancakes   fluffy-perfect-pancakes   \n",
       "3      3  4693  How to Make Cinnamon Rolls  tasty-101-cinnamon-rolls   \n",
       "4      4  1655     Healthy Banana Pancakes   healthy-banana-pancakes   \n",
       "\n",
       "                                           video_url  \\\n",
       "0  https://vid.tasty.co/output/25812/mp4_640x640/...   \n",
       "1  https://vid.tasty.co/output/163616/landscape_4...   \n",
       "2  https://vid.tasty.co/output/65088/landscape_48...   \n",
       "3  https://vid.tasty.co/output/121022/landscape_4...   \n",
       "4  https://vid.tasty.co/output/27116/mp4_640x640/...   \n",
       "\n",
       "                                       thumbnail_url  \\\n",
       "0  https://img.buzzfeed.com/video-api-prod/assets...   \n",
       "1  https://img.buzzfeed.com/video-api-prod/assets...   \n",
       "2  https://img.buzzfeed.com/thumbnailer-prod-us-e...   \n",
       "3  https://img.buzzfeed.com/thumbnailer-prod-us-e...   \n",
       "4  https://img.buzzfeed.com/thumbnailer-prod-us-e...   \n",
       "\n",
       "                                                tags  cook_time  prep_time  \\\n",
       "0  7336057,6854262,5993378,5831534,1280501,124779...         30         30   \n",
       "1  64487,64470,8091916,6718867,64483,64471,64465,...          0         15   \n",
       "2  64469,8091748,8091747,8091917,5831534,1280510,...         20         10   \n",
       "3  64469,5831534,64483,64484,65843,1280506,124778...         30         25   \n",
       "4  64469,64463,64470,8091916,1247785,1247788,1247...          0          0   \n",
       "\n",
       "   total_time  ratings_negative  ratings_positive  score  protein   fat  \\\n",
       "0         151               475             17340   98.0      7.0  21.0   \n",
       "1          15               777              8483   92.0      0.0   0.0   \n",
       "2          35              1099              5009   83.0     36.0  50.0   \n",
       "3         190               207              6649   97.0      8.0  25.0   \n",
       "4           0               591              3853   87.0      7.0   4.0   \n",
       "\n",
       "   calories  sugar  carbohydrates  fiber  \n",
       "0     479.0   24.0           63.0    1.0  \n",
       "1      69.0   18.0           18.0    0.0  \n",
       "2    1102.0   12.0          123.0    3.0  \n",
       "3     562.0   28.0           74.0    1.0  \n",
       "4     184.0    9.0           30.0    4.0  "
      ]
     },
     "execution_count": 222,
     "metadata": {},
     "output_type": "execute_result"
    }
   ],
   "source": [
    "import pandas as pd\n",
    "import numpy as np\n",
    "import random as rn\n",
    "import seaborn as sns\n",
    "import matplotlib.pyplot as plt\n",
    "\n",
    "\n",
    "recipes = pd.read_csv(r\"dishes.csv\")\n",
    "recipes.head()"
   ]
  },
  {
   "cell_type": "code",
   "execution_count": 223,
   "id": "cb675314",
   "metadata": {
    "scrolled": true
   },
   "outputs": [
    {
     "data": {
      "text/html": [
       "<div>\n",
       "<style scoped>\n",
       "    .dataframe tbody tr th:only-of-type {\n",
       "        vertical-align: middle;\n",
       "    }\n",
       "\n",
       "    .dataframe tbody tr th {\n",
       "        vertical-align: top;\n",
       "    }\n",
       "\n",
       "    .dataframe thead th {\n",
       "        text-align: right;\n",
       "    }\n",
       "</style>\n",
       "<table border=\"1\" class=\"dataframe\">\n",
       "  <thead>\n",
       "    <tr style=\"text-align: right;\">\n",
       "      <th></th>\n",
       "      <th>name</th>\n",
       "      <th>score</th>\n",
       "      <th>protein</th>\n",
       "      <th>fat</th>\n",
       "      <th>calories</th>\n",
       "      <th>sugar</th>\n",
       "      <th>carbohydrates</th>\n",
       "      <th>fiber</th>\n",
       "    </tr>\n",
       "  </thead>\n",
       "  <tbody>\n",
       "    <tr>\n",
       "      <th>0</th>\n",
       "      <td>Homemade Cinnamon Rolls</td>\n",
       "      <td>98.0</td>\n",
       "      <td>7.0</td>\n",
       "      <td>21.0</td>\n",
       "      <td>479.0</td>\n",
       "      <td>24.0</td>\n",
       "      <td>63.0</td>\n",
       "      <td>1.0</td>\n",
       "    </tr>\n",
       "    <tr>\n",
       "      <th>1</th>\n",
       "      <td>Whipped Coffee</td>\n",
       "      <td>92.0</td>\n",
       "      <td>0.0</td>\n",
       "      <td>0.0</td>\n",
       "      <td>69.0</td>\n",
       "      <td>18.0</td>\n",
       "      <td>18.0</td>\n",
       "      <td>0.0</td>\n",
       "    </tr>\n",
       "    <tr>\n",
       "      <th>2</th>\n",
       "      <td>Fluffy Pancakes</td>\n",
       "      <td>83.0</td>\n",
       "      <td>36.0</td>\n",
       "      <td>50.0</td>\n",
       "      <td>1102.0</td>\n",
       "      <td>12.0</td>\n",
       "      <td>123.0</td>\n",
       "      <td>3.0</td>\n",
       "    </tr>\n",
       "    <tr>\n",
       "      <th>3</th>\n",
       "      <td>How to Make Cinnamon Rolls</td>\n",
       "      <td>97.0</td>\n",
       "      <td>8.0</td>\n",
       "      <td>25.0</td>\n",
       "      <td>562.0</td>\n",
       "      <td>28.0</td>\n",
       "      <td>74.0</td>\n",
       "      <td>1.0</td>\n",
       "    </tr>\n",
       "    <tr>\n",
       "      <th>4</th>\n",
       "      <td>Healthy Banana Pancakes</td>\n",
       "      <td>87.0</td>\n",
       "      <td>7.0</td>\n",
       "      <td>4.0</td>\n",
       "      <td>184.0</td>\n",
       "      <td>9.0</td>\n",
       "      <td>30.0</td>\n",
       "      <td>4.0</td>\n",
       "    </tr>\n",
       "  </tbody>\n",
       "</table>\n",
       "</div>"
      ],
      "text/plain": [
       "                         name  score  protein   fat  calories  sugar  \\\n",
       "0     Homemade Cinnamon Rolls   98.0      7.0  21.0     479.0   24.0   \n",
       "1              Whipped Coffee   92.0      0.0   0.0      69.0   18.0   \n",
       "2             Fluffy Pancakes   83.0     36.0  50.0    1102.0   12.0   \n",
       "3  How to Make Cinnamon Rolls   97.0      8.0  25.0     562.0   28.0   \n",
       "4     Healthy Banana Pancakes   87.0      7.0   4.0     184.0    9.0   \n",
       "\n",
       "   carbohydrates  fiber  \n",
       "0           63.0    1.0  \n",
       "1           18.0    0.0  \n",
       "2          123.0    3.0  \n",
       "3           74.0    1.0  \n",
       "4           30.0    4.0  "
      ]
     },
     "execution_count": 223,
     "metadata": {},
     "output_type": "execute_result"
    }
   ],
   "source": [
    "df = recipes.drop(columns=['index', 'id_', 'slug', 'video_url', 'thumbnail_url', 'tags', 'cook_time', 'prep_time', 'total_time', 'ratings_negative', 'ratings_positive'])\n",
    "df.head()"
   ]
  },
  {
   "cell_type": "code",
   "execution_count": 224,
   "id": "ee731d4d",
   "metadata": {},
   "outputs": [],
   "source": [
    "class DataProcessing:\n",
    "    @staticmethod\n",
    "    def pickSample(x, quantity):\n",
    "        trainingSet = x.sample(quantity)\n",
    "        validatingSet = x.drop(trainingSet.index)\n",
    "        return trainingSet, validatingSet\n",
    "    \n",
    "    @staticmethod\n",
    "    def normalization(x):\n",
    "        values = x.select_dtypes(exclude=\"object\")\n",
    "        columnNames = values.columns.tolist()\n",
    "  \n",
    "        for column in columnNames:\n",
    "            data = x.loc[:, column]\n",
    "            maximum = max(data)\n",
    "            minimum = min(data)\n",
    "            for row in range(0, len(x), 1):\n",
    "                xprim = (x.at[row, column] - minimum)/(maximum - minimum)\n",
    "                x.at[row, column] = xprim\n",
    "        \n",
    "    @staticmethod\n",
    "    def meanVector(trainingSet):\n",
    "        meanVector = []\n",
    "        for column in trainingSet:\n",
    "            columnValues = trainingSet[column].values\n",
    "            meanVector.append(round(sum(columnValues)/len(columnValues), 2))\n",
    "        return meanVector\n",
    "    @staticmethod\n",
    "    def calculateAccuracy(meanVector, validatingSetMeanVector):\n",
    "        vector = np.abs(np.subtract(meanVector, validatingSetMeanVector))\n",
    "        acc = sum(vector)/len(vector)\n",
    "        acc = 1 - acc\n",
    "        return acc\n",
    "    @staticmethod\n",
    "    def showVectorPlot(meanVector, validatingSetMeanVector):\n",
    "        vector = np.abs(np.subtract(meanVector, validatingSetMeanVector))\n",
    "\n",
    "        # Data for meanVector\n",
    "        x = np.arange(0, len(meanVector))\n",
    "        y_mean = np.array(meanVector)\n",
    "\n",
    "        # Data for validatingSetMeanVector\n",
    "        y_validating = np.array(validatingSetMeanVector)\n",
    "        \n",
    "        y_vector = np.array(vector)\n",
    "\n",
    "        # Plotting\n",
    "        plt.figure(figsize=(10, 6))\n",
    "        plt.title(\"Line graph\")\n",
    "        plt.xlabel(\"X axis\")\n",
    "        plt.ylabel(\"Y axis\")\n",
    "        plt.plot(x, y_mean, color=\"red\", label=\"meanVector\")\n",
    "        plt.plot(x, y_validating, color=\"green\", label=\"validatingSetMeanVector\")\n",
    "        plt.plot(x, y_vector, color=\"blue\", label=\"absolute\")\n",
    "        plt.legend()\n",
    "        plt.show()"
   ]
  },
  {
   "cell_type": "code",
   "execution_count": 225,
   "id": "2573f894",
   "metadata": {},
   "outputs": [],
   "source": [
    "DataProcessing.normalization(df)"
   ]
  },
  {
   "cell_type": "code",
   "execution_count": 226,
   "id": "dd4ecfb7",
   "metadata": {},
   "outputs": [
    {
     "name": "stdout",
     "output_type": "stream",
     "text": [
      "Recipes chosen by the user:\n"
     ]
    },
    {
     "data": {
      "text/html": [
       "<div>\n",
       "<style scoped>\n",
       "    .dataframe tbody tr th:only-of-type {\n",
       "        vertical-align: middle;\n",
       "    }\n",
       "\n",
       "    .dataframe tbody tr th {\n",
       "        vertical-align: top;\n",
       "    }\n",
       "\n",
       "    .dataframe thead th {\n",
       "        text-align: right;\n",
       "    }\n",
       "</style>\n",
       "<table border=\"1\" class=\"dataframe\">\n",
       "  <thead>\n",
       "    <tr style=\"text-align: right;\">\n",
       "      <th></th>\n",
       "      <th>name</th>\n",
       "    </tr>\n",
       "  </thead>\n",
       "  <tbody>\n",
       "    <tr>\n",
       "      <th>3084</th>\n",
       "      <td>Chocolate-Dipped Oranges</td>\n",
       "    </tr>\n",
       "    <tr>\n",
       "      <th>2536</th>\n",
       "      <td>Mixed Berry Yogurt Bark</td>\n",
       "    </tr>\n",
       "    <tr>\n",
       "      <th>2653</th>\n",
       "      <td>Strawberry Rosé Macarons</td>\n",
       "    </tr>\n",
       "    <tr>\n",
       "      <th>397</th>\n",
       "      <td>Kale, Sweet Potato, and Onion Frittata</td>\n",
       "    </tr>\n",
       "    <tr>\n",
       "      <th>4087</th>\n",
       "      <td>Pineapple Fried Rice</td>\n",
       "    </tr>\n",
       "  </tbody>\n",
       "</table>\n",
       "</div>"
      ],
      "text/plain": [
       "                                        name\n",
       "3084                Chocolate-Dipped Oranges\n",
       "2536                 Mixed Berry Yogurt Bark\n",
       "2653                Strawberry Rosé Macarons\n",
       "397   Kale, Sweet Potato, and Onion Frittata\n",
       "4087                    Pineapple Fried Rice"
      ]
     },
     "metadata": {},
     "output_type": "display_data"
    }
   ],
   "source": [
    "trainingSet, validatingSet = DataProcessing.pickSample(df, 40)\n",
    "print(\"Recipes chosen by the user:\")\n",
    "display(trainingSet[['name']].head())"
   ]
  },
  {
   "cell_type": "code",
   "execution_count": 227,
   "id": "9ab4aee3",
   "metadata": {},
   "outputs": [],
   "source": [
    "class KNN:\n",
    "    @staticmethod\n",
    "    def distance(v1, v2):\n",
    "        tmp=0\n",
    "        for i in range(len(v1)):\n",
    "            tmp += (v1[i]-v2[i])**2\n",
    "        return tmp**(1/2)\n",
    "    @staticmethod\n",
    "    def appendClasses(k, validatingSet, trainingSet):\n",
    "        testingSet = validatingSet.select_dtypes(exclude=[\"object\"])\n",
    "        names = trainingSet['name']\n",
    "        trainingSet = trainingSet.select_dtypes(exclude=[\"object\"])\n",
    "        classes = []\n",
    "        counter = 0\n",
    "        for row in testingSet.values:\n",
    "            distances = []\n",
    "            test_vector = testingSet.select_dtypes(exclude=[\"object\"]).iloc[counter]\n",
    "            for i in trainingSet.values:\n",
    "                distances.append(KNN.distance(test_vector, i))\n",
    "            trainingSet[\"distance\"]=distances\n",
    "            trainingSet['name'] = names\n",
    "            trainingSet=trainingSet.sort_values(by=\"distance\")\n",
    "            \n",
    "        return trainingSet"
   ]
  },
  {
   "cell_type": "code",
   "execution_count": 228,
   "id": "7753e65d",
   "metadata": {},
   "outputs": [
    {
     "name": "stdout",
     "output_type": "stream",
     "text": [
      "Recipes chosen by the recommender:\n"
     ]
    },
    {
     "data": {
      "text/html": [
       "<div>\n",
       "<style scoped>\n",
       "    .dataframe tbody tr th:only-of-type {\n",
       "        vertical-align: middle;\n",
       "    }\n",
       "\n",
       "    .dataframe tbody tr th {\n",
       "        vertical-align: top;\n",
       "    }\n",
       "\n",
       "    .dataframe thead th {\n",
       "        text-align: right;\n",
       "    }\n",
       "</style>\n",
       "<table border=\"1\" class=\"dataframe\">\n",
       "  <thead>\n",
       "    <tr style=\"text-align: right;\">\n",
       "      <th></th>\n",
       "      <th>name</th>\n",
       "    </tr>\n",
       "  </thead>\n",
       "  <tbody>\n",
       "    <tr>\n",
       "      <th>2181</th>\n",
       "      <td>Cinnamon Roll Coffee Cake</td>\n",
       "    </tr>\n",
       "    <tr>\n",
       "      <th>3260</th>\n",
       "      <td>Raspberry Rose Bloody Lava Cake</td>\n",
       "    </tr>\n",
       "    <tr>\n",
       "      <th>3216</th>\n",
       "      <td>One-Bowl Fudgy Brownies As Made By Alexis Debo...</td>\n",
       "    </tr>\n",
       "    <tr>\n",
       "      <th>2740</th>\n",
       "      <td>Strawberry Cheesecake Ice Cream</td>\n",
       "    </tr>\n",
       "    <tr>\n",
       "      <th>3108</th>\n",
       "      <td>Strawberry Shortcake Meringue Nests</td>\n",
       "    </tr>\n",
       "  </tbody>\n",
       "</table>\n",
       "</div>"
      ],
      "text/plain": [
       "                                                   name\n",
       "2181                          Cinnamon Roll Coffee Cake\n",
       "3260                    Raspberry Rose Bloody Lava Cake\n",
       "3216  One-Bowl Fudgy Brownies As Made By Alexis Debo...\n",
       "2740                    Strawberry Cheesecake Ice Cream\n",
       "3108                Strawberry Shortcake Meringue Nests"
      ]
     },
     "metadata": {},
     "output_type": "display_data"
    }
   ],
   "source": [
    "final = KNN.appendClasses(5, validatingSet, trainingSet)\n",
    "print(\"Recipes chosen by the recommender:\")\n",
    "display(final[['name']].head())"
   ]
  },
  {
   "cell_type": "code",
   "execution_count": 229,
   "id": "be11196e",
   "metadata": {},
   "outputs": [],
   "source": [
    "trainingSet = trainingSet.select_dtypes(exclude=[\"object\"])"
   ]
  },
  {
   "cell_type": "code",
   "execution_count": 230,
   "id": "7a574dcd",
   "metadata": {},
   "outputs": [],
   "source": [
    "meanVector = DataProcessing.meanVector(trainingSet)"
   ]
  },
  {
   "cell_type": "code",
   "execution_count": 231,
   "id": "4866927c",
   "metadata": {},
   "outputs": [],
   "source": [
    "recommendations = final.iloc[:, :-2].head(20)"
   ]
  },
  {
   "cell_type": "code",
   "execution_count": 232,
   "id": "48af2dc6",
   "metadata": {},
   "outputs": [],
   "source": [
    "validatingSetMeanVector = DataProcessing.meanVector(recommendations.select_dtypes(exclude=[\"object\"]))"
   ]
  },
  {
   "cell_type": "code",
   "execution_count": 233,
   "id": "3e3d249e",
   "metadata": {},
   "outputs": [
    {
     "data": {
      "text/plain": [
       "[0.86, 0.28, 0.3, 0.31, 0.21, 0.17, 0.09]"
      ]
     },
     "metadata": {},
     "output_type": "display_data"
    }
   ],
   "source": [
    "display(meanVector)"
   ]
  },
  {
   "cell_type": "code",
   "execution_count": 234,
   "id": "d571e176",
   "metadata": {},
   "outputs": [
    {
     "data": {
      "text/plain": [
       "[0.89, 0.16, 0.17, 0.19, 0.2, 0.11, 0.03]"
      ]
     },
     "metadata": {},
     "output_type": "display_data"
    }
   ],
   "source": [
    "display(validatingSetMeanVector)"
   ]
  },
  {
   "cell_type": "code",
   "execution_count": 235,
   "id": "ec315fb4",
   "metadata": {},
   "outputs": [
    {
     "name": "stdout",
     "output_type": "stream",
     "text": [
      "The accuracy is 92.43 %\n"
     ]
    }
   ],
   "source": [
    "acc = DataProcessing.calculateAccuracy(meanVector, validatingSetMeanVector)\n",
    "print(\"The accuracy is\", round(acc*100, 2), \"%\")"
   ]
  },
  {
   "cell_type": "code",
   "execution_count": 236,
   "id": "ddbe37fe",
   "metadata": {},
   "outputs": [
    {
     "data": {
      "image/png": "[encoded data removed]",
      "text/plain": [
       "<Figure size 1000x600 with 1 Axes>"
      ]
     },
     "metadata": {},
     "output_type": "display_data"
    }
   ],
   "source": [
    "DataProcessing.showVectorPlot(meanVector, validatingSetMeanVector)"
   ]
  },
  {
   "cell_type": "code",
   "execution_count": null,
   "id": "e45d19ed",
   "metadata": {},
   "outputs": [],
   "source": []
  },
  {
   "cell_type": "code",
   "execution_count": null,
   "id": "4f31e0d3",
   "metadata": {},
   "outputs": [],
   "source": []
  },
  {
   "cell_type": "code",
   "execution_count": null,
   "id": "848ae950",
   "metadata": {},
   "outputs": [],
   "source": []
  },
  {
   "cell_type": "code",
   "execution_count": null,
   "id": "738e2975",
   "metadata": {},
   "outputs": [],
   "source": []
  }
 ],
 "metadata": {
  "kernelspec": {
   "display_name": "Python 3 (ipykernel)",
   "language": "python",
   "name": "python3"
  },
  "language_info": {
   "codemirror_mode": {
    "name": "ipython",
    "version": 3
   },
   "file_extension": ".py",
   "mimetype": "text/x-python",
   "name": "python",
   "nbconvert_exporter": "python",
   "pygments_lexer": "ipython3",
   "version": "3.9.13"
  }
 },
 "nbformat": 4,
 "nbformat_minor": 5
}
