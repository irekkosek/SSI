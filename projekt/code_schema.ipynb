{
 "cells": [
  {
   "cell_type": "code",
   "execution_count": null,
   "metadata": {},
   "outputs": [],
   "source": [
    "#importowanie zależności\n",
    "import pandas as pd # praca na bazie danych\n",
    "import numpy as np # operacje matematyczne\n",
    "import random as rn # funkcja sample do wybierania losowych rekordów z bazy\n",
    "import matplotlib.pyplot as plt # wykresy\n",
    "import seaborn as sns # wykresy\n",
    "import time # obliczenie czasu wykonywania kodu\n",
    "\n",
    "#klasa do przetwarzania danych\n",
    "class DataProcessing:\n",
    "    def pickSample(x, quantity):\n",
    "    def dropColumns(x, threshold_percentage):\n",
    "    def normalization(x):\n",
    "\n",
    "#klasa implementująca soft set\n",
    "class SoftSet:\n",
    "    def meanVector(df):\n",
    "    def addSumsColumn(restOfDatabase, chosenByUser):\n",
    "    def pickRecommendations(restOfDatabase, chosenByUser, quantity):\n",
    "\n",
    "#klasa do wyświetlania statystyk\n",
    "class ShowStatistics:\n",
    "    def reorderColumns(x):\n",
    "    def calculateAccuracy(chosenByUser, recommendations):\n",
    "    def showVectorPlot(chosenByUser, recommendations):"
   ]
  },
  {
   "cell_type": "code",
   "execution_count": null,
   "metadata": {},
   "outputs": [],
   "source": []
  }
 ],
 "metadata": {
  "language_info": {
   "name": "python"
  },
  "orig_nbformat": 4
 },
 "nbformat": 4,
 "nbformat_minor": 2
}
