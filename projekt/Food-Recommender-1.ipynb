{
 "cells": [
  {
   "cell_type": "code",
   "execution_count": 7,
   "id": "81087572",
   "metadata": {},
   "outputs": [
    {
     "data": {
      "text/html": [
       "<div>\n",
       "<style scoped>\n",
       "    .dataframe tbody tr th:only-of-type {\n",
       "        vertical-align: middle;\n",
       "    }\n",
       "\n",
       "    .dataframe tbody tr th {\n",
       "        vertical-align: top;\n",
       "    }\n",
       "\n",
       "    .dataframe thead th {\n",
       "        text-align: right;\n",
       "    }\n",
       "</style>\n",
       "<table border=\"1\" class=\"dataframe\">\n",
       "  <thead>\n",
       "    <tr style=\"text-align: right;\">\n",
       "      <th></th>\n",
       "      <th>index_tasty</th>\n",
       "      <th>id_</th>\n",
       "      <th>name</th>\n",
       "      <th>slug</th>\n",
       "      <th>video_url</th>\n",
       "      <th>thumbnail_url</th>\n",
       "      <th>tags</th>\n",
       "      <th>ratings_negative</th>\n",
       "      <th>ratings_positive</th>\n",
       "      <th>score</th>\n",
       "      <th>...</th>\n",
       "      <th>cuisine_cuban</th>\n",
       "      <th>cuisine_puerto_rican</th>\n",
       "      <th>cuisine_soul_food</th>\n",
       "      <th>cuisine_indigenous</th>\n",
       "      <th>cuisine_laotian</th>\n",
       "      <th>cuisine_hawaiian</th>\n",
       "      <th>method_no_bake_desserts</th>\n",
       "      <th>cuisine_lebanese</th>\n",
       "      <th>cuisine_south_african</th>\n",
       "      <th>cuisine_venezuelan</th>\n",
       "    </tr>\n",
       "  </thead>\n",
       "  <tbody>\n",
       "    <tr>\n",
       "      <th>0</th>\n",
       "      <td>0</td>\n",
       "      <td>868</td>\n",
       "      <td>Homemade Cinnamon Rolls</td>\n",
       "      <td>homemade-cinnamon-rolls</td>\n",
       "      <td>https://vid.tasty.co/output/25812/mp4_640x640/...</td>\n",
       "      <td>https://img.buzzfeed.com/video-api-prod/assets...</td>\n",
       "      <td>7336057,6854262,5993378,5831534,1280501,124779...</td>\n",
       "      <td>475</td>\n",
       "      <td>17340</td>\n",
       "      <td>98.0</td>\n",
       "      <td>...</td>\n",
       "      <td>0</td>\n",
       "      <td>0</td>\n",
       "      <td>0</td>\n",
       "      <td>0</td>\n",
       "      <td>0</td>\n",
       "      <td>0</td>\n",
       "      <td>0</td>\n",
       "      <td>0</td>\n",
       "      <td>0</td>\n",
       "      <td>0</td>\n",
       "    </tr>\n",
       "    <tr>\n",
       "      <th>1</th>\n",
       "      <td>1</td>\n",
       "      <td>6124</td>\n",
       "      <td>Whipped Coffee</td>\n",
       "      <td>whipped-coffee</td>\n",
       "      <td>https://vid.tasty.co/output/163616/landscape_4...</td>\n",
       "      <td>https://img.buzzfeed.com/video-api-prod/assets...</td>\n",
       "      <td>64487,64470,8091916,6718867,64483,64471,64465,...</td>\n",
       "      <td>777</td>\n",
       "      <td>8483</td>\n",
       "      <td>92.0</td>\n",
       "      <td>...</td>\n",
       "      <td>0</td>\n",
       "      <td>0</td>\n",
       "      <td>0</td>\n",
       "      <td>0</td>\n",
       "      <td>0</td>\n",
       "      <td>0</td>\n",
       "      <td>0</td>\n",
       "      <td>0</td>\n",
       "      <td>0</td>\n",
       "      <td>0</td>\n",
       "    </tr>\n",
       "    <tr>\n",
       "      <th>2</th>\n",
       "      <td>2</td>\n",
       "      <td>3094</td>\n",
       "      <td>Fluffy Pancakes</td>\n",
       "      <td>fluffy-perfect-pancakes</td>\n",
       "      <td>https://vid.tasty.co/output/65088/landscape_48...</td>\n",
       "      <td>https://img.buzzfeed.com/thumbnailer-prod-us-e...</td>\n",
       "      <td>64469,8091748,8091747,8091917,5831534,1280510,...</td>\n",
       "      <td>1099</td>\n",
       "      <td>5009</td>\n",
       "      <td>83.0</td>\n",
       "      <td>...</td>\n",
       "      <td>0</td>\n",
       "      <td>0</td>\n",
       "      <td>0</td>\n",
       "      <td>0</td>\n",
       "      <td>0</td>\n",
       "      <td>0</td>\n",
       "      <td>0</td>\n",
       "      <td>0</td>\n",
       "      <td>0</td>\n",
       "      <td>0</td>\n",
       "    </tr>\n",
       "    <tr>\n",
       "      <th>3</th>\n",
       "      <td>3</td>\n",
       "      <td>4693</td>\n",
       "      <td>How to Make Cinnamon Rolls</td>\n",
       "      <td>tasty-101-cinnamon-rolls</td>\n",
       "      <td>https://vid.tasty.co/output/121022/landscape_4...</td>\n",
       "      <td>https://img.buzzfeed.com/thumbnailer-prod-us-e...</td>\n",
       "      <td>64469,5831534,64483,64484,65843,1280506,124778...</td>\n",
       "      <td>207</td>\n",
       "      <td>6649</td>\n",
       "      <td>97.0</td>\n",
       "      <td>...</td>\n",
       "      <td>0</td>\n",
       "      <td>0</td>\n",
       "      <td>0</td>\n",
       "      <td>0</td>\n",
       "      <td>0</td>\n",
       "      <td>0</td>\n",
       "      <td>0</td>\n",
       "      <td>0</td>\n",
       "      <td>0</td>\n",
       "      <td>0</td>\n",
       "    </tr>\n",
       "    <tr>\n",
       "      <th>4</th>\n",
       "      <td>4</td>\n",
       "      <td>1655</td>\n",
       "      <td>Healthy Banana Pancakes</td>\n",
       "      <td>healthy-banana-pancakes</td>\n",
       "      <td>https://vid.tasty.co/output/27116/mp4_640x640/...</td>\n",
       "      <td>https://img.buzzfeed.com/thumbnailer-prod-us-e...</td>\n",
       "      <td>64469,64463,64470,8091916,1247785,1247788,1247...</td>\n",
       "      <td>591</td>\n",
       "      <td>3853</td>\n",
       "      <td>87.0</td>\n",
       "      <td>...</td>\n",
       "      <td>0</td>\n",
       "      <td>0</td>\n",
       "      <td>0</td>\n",
       "      <td>0</td>\n",
       "      <td>0</td>\n",
       "      <td>0</td>\n",
       "      <td>0</td>\n",
       "      <td>0</td>\n",
       "      <td>0</td>\n",
       "      <td>0</td>\n",
       "    </tr>\n",
       "  </tbody>\n",
       "</table>\n",
       "<p>5 rows × 107 columns</p>\n",
       "</div>"
      ],
      "text/plain": [
       "   index_tasty   id_                        name                      slug  \\\n",
       "0            0   868     Homemade Cinnamon Rolls   homemade-cinnamon-rolls   \n",
       "1            1  6124              Whipped Coffee            whipped-coffee   \n",
       "2            2  3094             Fluffy Pancakes   fluffy-perfect-pancakes   \n",
       "3            3  4693  How to Make Cinnamon Rolls  tasty-101-cinnamon-rolls   \n",
       "4            4  1655     Healthy Banana Pancakes   healthy-banana-pancakes   \n",
       "\n",
       "                                           video_url  \\\n",
       "0  https://vid.tasty.co/output/25812/mp4_640x640/...   \n",
       "1  https://vid.tasty.co/output/163616/landscape_4...   \n",
       "2  https://vid.tasty.co/output/65088/landscape_48...   \n",
       "3  https://vid.tasty.co/output/121022/landscape_4...   \n",
       "4  https://vid.tasty.co/output/27116/mp4_640x640/...   \n",
       "\n",
       "                                       thumbnail_url  \\\n",
       "0  https://img.buzzfeed.com/video-api-prod/assets...   \n",
       "1  https://img.buzzfeed.com/video-api-prod/assets...   \n",
       "2  https://img.buzzfeed.com/thumbnailer-prod-us-e...   \n",
       "3  https://img.buzzfeed.com/thumbnailer-prod-us-e...   \n",
       "4  https://img.buzzfeed.com/thumbnailer-prod-us-e...   \n",
       "\n",
       "                                                tags  ratings_negative  \\\n",
       "0  7336057,6854262,5993378,5831534,1280501,124779...               475   \n",
       "1  64487,64470,8091916,6718867,64483,64471,64465,...               777   \n",
       "2  64469,8091748,8091747,8091917,5831534,1280510,...              1099   \n",
       "3  64469,5831534,64483,64484,65843,1280506,124778...               207   \n",
       "4  64469,64463,64470,8091916,1247785,1247788,1247...               591   \n",
       "\n",
       "   ratings_positive  score  ...  cuisine_cuban  cuisine_puerto_rican  \\\n",
       "0             17340   98.0  ...              0                     0   \n",
       "1              8483   92.0  ...              0                     0   \n",
       "2              5009   83.0  ...              0                     0   \n",
       "3              6649   97.0  ...              0                     0   \n",
       "4              3853   87.0  ...              0                     0   \n",
       "\n",
       "   cuisine_soul_food  cuisine_indigenous  cuisine_laotian  cuisine_hawaiian  \\\n",
       "0                  0                   0                0                 0   \n",
       "1                  0                   0                0                 0   \n",
       "2                  0                   0                0                 0   \n",
       "3                  0                   0                0                 0   \n",
       "4                  0                   0                0                 0   \n",
       "\n",
       "   method_no_bake_desserts  cuisine_lebanese  cuisine_south_african  \\\n",
       "0                        0                 0                      0   \n",
       "1                        0                 0                      0   \n",
       "2                        0                 0                      0   \n",
       "3                        0                 0                      0   \n",
       "4                        0                 0                      0   \n",
       "\n",
       "   cuisine_venezuelan  \n",
       "0                   0  \n",
       "1                   0  \n",
       "2                   0  \n",
       "3                   0  \n",
       "4                   0  \n",
       "\n",
       "[5 rows x 107 columns]"
      ]
     },
     "execution_count": 7,
     "metadata": {},
     "output_type": "execute_result"
    }
   ],
   "source": [
    "import pandas as pd\n",
    "import numpy as np\n",
    "import random as rn\n",
    "\n",
    "recipes = pd.read_csv(r\"dishes_with_mapped_tags.csv\")\n",
    "recipes.head()"
   ]
  },
  {
   "attachments": {},
   "cell_type": "markdown",
   "id": "8d6305a2",
   "metadata": {},
   "source": []
  },
  {
   "cell_type": "code",
   "execution_count": 6,
   "id": "cb675314",
   "metadata": {
    "scrolled": true
   },
   "outputs": [
    {
     "ename": "KeyError",
     "evalue": "\"['index', 'cook_time', 'prep_time', 'total_time', 'protein', 'fat', 'calories', 'sugar', 'carbohydrates', 'fiber'] not found in axis\"",
     "output_type": "error",
     "traceback": [
      "\u001b[0;31m---------------------------------------------------------------------------\u001b[0m",
      "\u001b[0;31mKeyError\u001b[0m                                  Traceback (most recent call last)",
      "Cell \u001b[0;32mIn[6], line 1\u001b[0m\n\u001b[0;32m----> 1\u001b[0m df \u001b[39m=\u001b[39m recipes\u001b[39m.\u001b[39;49mdrop(columns\u001b[39m=\u001b[39;49m[\u001b[39m'\u001b[39;49m\u001b[39mindex\u001b[39;49m\u001b[39m'\u001b[39;49m, \u001b[39m'\u001b[39;49m\u001b[39mid_\u001b[39;49m\u001b[39m'\u001b[39;49m, \u001b[39m'\u001b[39;49m\u001b[39mslug\u001b[39;49m\u001b[39m'\u001b[39;49m, \u001b[39m'\u001b[39;49m\u001b[39mvideo_url\u001b[39;49m\u001b[39m'\u001b[39;49m, \u001b[39m'\u001b[39;49m\u001b[39mthumbnail_url\u001b[39;49m\u001b[39m'\u001b[39;49m, \u001b[39m'\u001b[39;49m\u001b[39mtags\u001b[39;49m\u001b[39m'\u001b[39;49m, \u001b[39m'\u001b[39;49m\u001b[39mcook_time\u001b[39;49m\u001b[39m'\u001b[39;49m, \u001b[39m'\u001b[39;49m\u001b[39mprep_time\u001b[39;49m\u001b[39m'\u001b[39;49m, \u001b[39m'\u001b[39;49m\u001b[39mtotal_time\u001b[39;49m\u001b[39m'\u001b[39;49m, \u001b[39m'\u001b[39;49m\u001b[39mratings_negative\u001b[39;49m\u001b[39m'\u001b[39;49m, \u001b[39m'\u001b[39;49m\u001b[39mratings_positive\u001b[39;49m\u001b[39m'\u001b[39;49m, \u001b[39m'\u001b[39;49m\u001b[39mscore\u001b[39;49m\u001b[39m'\u001b[39;49m, \u001b[39m'\u001b[39;49m\u001b[39mprotein\u001b[39;49m\u001b[39m'\u001b[39;49m, \u001b[39m'\u001b[39;49m\u001b[39mfat\u001b[39;49m\u001b[39m'\u001b[39;49m, \u001b[39m'\u001b[39;49m\u001b[39mcalories\u001b[39;49m\u001b[39m'\u001b[39;49m, \u001b[39m'\u001b[39;49m\u001b[39msugar\u001b[39;49m\u001b[39m'\u001b[39;49m, \u001b[39m'\u001b[39;49m\u001b[39mcarbohydrates\u001b[39;49m\u001b[39m'\u001b[39;49m, \u001b[39m'\u001b[39;49m\u001b[39mfiber\u001b[39;49m\u001b[39m'\u001b[39;49m])\n\u001b[1;32m      2\u001b[0m df\u001b[39m.\u001b[39mhead()\n",
      "File \u001b[0;32m~/.local/lib/python3.9/site-packages/pandas/util/_decorators.py:331\u001b[0m, in \u001b[0;36mdeprecate_nonkeyword_arguments.<locals>.decorate.<locals>.wrapper\u001b[0;34m(*args, **kwargs)\u001b[0m\n\u001b[1;32m    325\u001b[0m \u001b[39mif\u001b[39;00m \u001b[39mlen\u001b[39m(args) \u001b[39m>\u001b[39m num_allow_args:\n\u001b[1;32m    326\u001b[0m     warnings\u001b[39m.\u001b[39mwarn(\n\u001b[1;32m    327\u001b[0m         msg\u001b[39m.\u001b[39mformat(arguments\u001b[39m=\u001b[39m_format_argument_list(allow_args)),\n\u001b[1;32m    328\u001b[0m         \u001b[39mFutureWarning\u001b[39;00m,\n\u001b[1;32m    329\u001b[0m         stacklevel\u001b[39m=\u001b[39mfind_stack_level(),\n\u001b[1;32m    330\u001b[0m     )\n\u001b[0;32m--> 331\u001b[0m \u001b[39mreturn\u001b[39;00m func(\u001b[39m*\u001b[39;49margs, \u001b[39m*\u001b[39;49m\u001b[39m*\u001b[39;49mkwargs)\n",
      "File \u001b[0;32m~/.local/lib/python3.9/site-packages/pandas/core/frame.py:5399\u001b[0m, in \u001b[0;36mDataFrame.drop\u001b[0;34m(self, labels, axis, index, columns, level, inplace, errors)\u001b[0m\n\u001b[1;32m   5251\u001b[0m \u001b[39m@deprecate_nonkeyword_arguments\u001b[39m(version\u001b[39m=\u001b[39m\u001b[39mNone\u001b[39;00m, allowed_args\u001b[39m=\u001b[39m[\u001b[39m\"\u001b[39m\u001b[39mself\u001b[39m\u001b[39m\"\u001b[39m, \u001b[39m\"\u001b[39m\u001b[39mlabels\u001b[39m\u001b[39m\"\u001b[39m])\n\u001b[1;32m   5252\u001b[0m \u001b[39mdef\u001b[39;00m \u001b[39mdrop\u001b[39m(  \u001b[39m# type: ignore[override]\u001b[39;00m\n\u001b[1;32m   5253\u001b[0m     \u001b[39mself\u001b[39m,\n\u001b[0;32m   (...)\u001b[0m\n\u001b[1;32m   5260\u001b[0m     errors: IgnoreRaise \u001b[39m=\u001b[39m \u001b[39m\"\u001b[39m\u001b[39mraise\u001b[39m\u001b[39m\"\u001b[39m,\n\u001b[1;32m   5261\u001b[0m ) \u001b[39m-\u001b[39m\u001b[39m>\u001b[39m DataFrame \u001b[39m|\u001b[39m \u001b[39mNone\u001b[39;00m:\n\u001b[1;32m   5262\u001b[0m     \u001b[39m\"\"\"\u001b[39;00m\n\u001b[1;32m   5263\u001b[0m \u001b[39m    Drop specified labels from rows or columns.\u001b[39;00m\n\u001b[1;32m   5264\u001b[0m \n\u001b[0;32m   (...)\u001b[0m\n\u001b[1;32m   5397\u001b[0m \u001b[39m            weight  1.0     0.8\u001b[39;00m\n\u001b[1;32m   5398\u001b[0m \u001b[39m    \"\"\"\u001b[39;00m\n\u001b[0;32m-> 5399\u001b[0m     \u001b[39mreturn\u001b[39;00m \u001b[39msuper\u001b[39;49m()\u001b[39m.\u001b[39;49mdrop(\n\u001b[1;32m   5400\u001b[0m         labels\u001b[39m=\u001b[39;49mlabels,\n\u001b[1;32m   5401\u001b[0m         axis\u001b[39m=\u001b[39;49maxis,\n\u001b[1;32m   5402\u001b[0m         index\u001b[39m=\u001b[39;49mindex,\n\u001b[1;32m   5403\u001b[0m         columns\u001b[39m=\u001b[39;49mcolumns,\n\u001b[1;32m   5404\u001b[0m         level\u001b[39m=\u001b[39;49mlevel,\n\u001b[1;32m   5405\u001b[0m         inplace\u001b[39m=\u001b[39;49minplace,\n\u001b[1;32m   5406\u001b[0m         errors\u001b[39m=\u001b[39;49merrors,\n\u001b[1;32m   5407\u001b[0m     )\n",
      "File \u001b[0;32m~/.local/lib/python3.9/site-packages/pandas/util/_decorators.py:331\u001b[0m, in \u001b[0;36mdeprecate_nonkeyword_arguments.<locals>.decorate.<locals>.wrapper\u001b[0;34m(*args, **kwargs)\u001b[0m\n\u001b[1;32m    325\u001b[0m \u001b[39mif\u001b[39;00m \u001b[39mlen\u001b[39m(args) \u001b[39m>\u001b[39m num_allow_args:\n\u001b[1;32m    326\u001b[0m     warnings\u001b[39m.\u001b[39mwarn(\n\u001b[1;32m    327\u001b[0m         msg\u001b[39m.\u001b[39mformat(arguments\u001b[39m=\u001b[39m_format_argument_list(allow_args)),\n\u001b[1;32m    328\u001b[0m         \u001b[39mFutureWarning\u001b[39;00m,\n\u001b[1;32m    329\u001b[0m         stacklevel\u001b[39m=\u001b[39mfind_stack_level(),\n\u001b[1;32m    330\u001b[0m     )\n\u001b[0;32m--> 331\u001b[0m \u001b[39mreturn\u001b[39;00m func(\u001b[39m*\u001b[39;49margs, \u001b[39m*\u001b[39;49m\u001b[39m*\u001b[39;49mkwargs)\n",
      "File \u001b[0;32m~/.local/lib/python3.9/site-packages/pandas/core/generic.py:4505\u001b[0m, in \u001b[0;36mNDFrame.drop\u001b[0;34m(self, labels, axis, index, columns, level, inplace, errors)\u001b[0m\n\u001b[1;32m   4503\u001b[0m \u001b[39mfor\u001b[39;00m axis, labels \u001b[39min\u001b[39;00m axes\u001b[39m.\u001b[39mitems():\n\u001b[1;32m   4504\u001b[0m     \u001b[39mif\u001b[39;00m labels \u001b[39mis\u001b[39;00m \u001b[39mnot\u001b[39;00m \u001b[39mNone\u001b[39;00m:\n\u001b[0;32m-> 4505\u001b[0m         obj \u001b[39m=\u001b[39m obj\u001b[39m.\u001b[39;49m_drop_axis(labels, axis, level\u001b[39m=\u001b[39;49mlevel, errors\u001b[39m=\u001b[39;49merrors)\n\u001b[1;32m   4507\u001b[0m \u001b[39mif\u001b[39;00m inplace:\n\u001b[1;32m   4508\u001b[0m     \u001b[39mself\u001b[39m\u001b[39m.\u001b[39m_update_inplace(obj)\n",
      "File \u001b[0;32m~/.local/lib/python3.9/site-packages/pandas/core/generic.py:4546\u001b[0m, in \u001b[0;36mNDFrame._drop_axis\u001b[0;34m(self, labels, axis, level, errors, only_slice)\u001b[0m\n\u001b[1;32m   4544\u001b[0m         new_axis \u001b[39m=\u001b[39m axis\u001b[39m.\u001b[39mdrop(labels, level\u001b[39m=\u001b[39mlevel, errors\u001b[39m=\u001b[39merrors)\n\u001b[1;32m   4545\u001b[0m     \u001b[39melse\u001b[39;00m:\n\u001b[0;32m-> 4546\u001b[0m         new_axis \u001b[39m=\u001b[39m axis\u001b[39m.\u001b[39;49mdrop(labels, errors\u001b[39m=\u001b[39;49merrors)\n\u001b[1;32m   4547\u001b[0m     indexer \u001b[39m=\u001b[39m axis\u001b[39m.\u001b[39mget_indexer(new_axis)\n\u001b[1;32m   4549\u001b[0m \u001b[39m# Case for non-unique axis\u001b[39;00m\n\u001b[1;32m   4550\u001b[0m \u001b[39melse\u001b[39;00m:\n",
      "File \u001b[0;32m~/.local/lib/python3.9/site-packages/pandas/core/indexes/base.py:6934\u001b[0m, in \u001b[0;36mIndex.drop\u001b[0;34m(self, labels, errors)\u001b[0m\n\u001b[1;32m   6932\u001b[0m \u001b[39mif\u001b[39;00m mask\u001b[39m.\u001b[39many():\n\u001b[1;32m   6933\u001b[0m     \u001b[39mif\u001b[39;00m errors \u001b[39m!=\u001b[39m \u001b[39m\"\u001b[39m\u001b[39mignore\u001b[39m\u001b[39m\"\u001b[39m:\n\u001b[0;32m-> 6934\u001b[0m         \u001b[39mraise\u001b[39;00m \u001b[39mKeyError\u001b[39;00m(\u001b[39mf\u001b[39m\u001b[39m\"\u001b[39m\u001b[39m{\u001b[39;00m\u001b[39mlist\u001b[39m(labels[mask])\u001b[39m}\u001b[39;00m\u001b[39m not found in axis\u001b[39m\u001b[39m\"\u001b[39m)\n\u001b[1;32m   6935\u001b[0m     indexer \u001b[39m=\u001b[39m indexer[\u001b[39m~\u001b[39mmask]\n\u001b[1;32m   6936\u001b[0m \u001b[39mreturn\u001b[39;00m \u001b[39mself\u001b[39m\u001b[39m.\u001b[39mdelete(indexer)\n",
      "\u001b[0;31mKeyError\u001b[0m: \"['index', 'cook_time', 'prep_time', 'total_time', 'protein', 'fat', 'calories', 'sugar', 'carbohydrates', 'fiber'] not found in axis\""
     ]
    }
   ],
   "source": [
    "df = recipes.drop(columns=['index', 'id_', 'slug', 'video_url', 'thumbnail_url', 'tags', 'cook_time', 'prep_time', 'total_time', 'ratings_negative', 'ratings_positive', 'score', 'protein', 'fat', 'calories', 'sugar', 'carbohydrates', 'fiber'])\n",
    "df.head()"
   ]
  },
  {
   "cell_type": "code",
   "execution_count": 9,
   "id": "99e09420",
   "metadata": {},
   "outputs": [],
   "source": [
    "class DataProcessing:\n",
    "    @staticmethod\n",
    "    def pickSample(x, quantity):\n",
    "        trainingSet = x.sample(quantity)\n",
    "        validatingSet = x.drop(trainingSet.index)\n",
    "        return trainingSet, validatingSet\n",
    "    \n",
    "    @staticmethod\n",
    "    def normalization(x):\n",
    "        values = x.select_dtypes(exclude=\"object\")\n",
    "        columnNames = values.columns.tolist()\n",
    "  \n",
    "        for column in columnNames:\n",
    "            data = x.loc[:, column]\n",
    "            maximum = max(data)\n",
    "            minimum = min(data)\n",
    "            for row in range(0, len(x), 1):\n",
    "                xprim = (x.at[row, column] - minimum)/(maximum - minimum)\n",
    "                x.at[row, column] = xprim"
   ]
  },
  {
   "cell_type": "code",
   "execution_count": 10,
   "id": "28cd31a9",
   "metadata": {},
   "outputs": [
    {
     "ename": "NameError",
     "evalue": "name 'df' is not defined",
     "output_type": "error",
     "traceback": [
      "\u001b[0;31m---------------------------------------------------------------------------\u001b[0m",
      "\u001b[0;31mNameError\u001b[0m                                 Traceback (most recent call last)",
      "Cell \u001b[0;32mIn[10], line 1\u001b[0m\n\u001b[0;32m----> 1\u001b[0m trainingSet, validatingSet \u001b[39m=\u001b[39m DataProcessing\u001b[39m.\u001b[39mpickSample(df, \u001b[39m40\u001b[39m)\n",
      "\u001b[0;31mNameError\u001b[0m: name 'df' is not defined"
     ]
    }
   ],
   "source": [
    "trainingSet, validatingSet = DataProcessing.pickSample(df, 40)"
   ]
  },
  {
   "cell_type": "code",
   "execution_count": null,
   "id": "c27fc07b",
   "metadata": {},
   "outputs": [
    {
     "name": "stdout",
     "output_type": "stream",
     "text": [
      "Recipes chosen by the user:\n"
     ]
    },
    {
     "data": {
      "text/html": [
       "<div>\n",
       "<style scoped>\n",
       "    .dataframe tbody tr th:only-of-type {\n",
       "        vertical-align: middle;\n",
       "    }\n",
       "\n",
       "    .dataframe tbody tr th {\n",
       "        vertical-align: top;\n",
       "    }\n",
       "\n",
       "    .dataframe thead th {\n",
       "        text-align: right;\n",
       "    }\n",
       "</style>\n",
       "<table border=\"1\" class=\"dataframe\">\n",
       "  <thead>\n",
       "    <tr style=\"text-align: right;\">\n",
       "      <th></th>\n",
       "      <th>name</th>\n",
       "    </tr>\n",
       "  </thead>\n",
       "  <tbody>\n",
       "    <tr>\n",
       "      <th>3236</th>\n",
       "      <td>Jalebi As Made By Swasti</td>\n",
       "    </tr>\n",
       "    <tr>\n",
       "      <th>4019</th>\n",
       "      <td>Buffalo Chickpea Wraps</td>\n",
       "    </tr>\n",
       "    <tr>\n",
       "      <th>897</th>\n",
       "      <td>Easy Juicy Chicken Marsala</td>\n",
       "    </tr>\n",
       "    <tr>\n",
       "      <th>3625</th>\n",
       "      <td>Curly Fries</td>\n",
       "    </tr>\n",
       "    <tr>\n",
       "      <th>1741</th>\n",
       "      <td>Classic Caesar Salad</td>\n",
       "    </tr>\n",
       "  </tbody>\n",
       "</table>\n",
       "</div>"
      ],
      "text/plain": [
       "                            name\n",
       "3236    Jalebi As Made By Swasti\n",
       "4019      Buffalo Chickpea Wraps\n",
       "897   Easy Juicy Chicken Marsala\n",
       "3625                 Curly Fries\n",
       "1741        Classic Caesar Salad"
      ]
     },
     "metadata": {},
     "output_type": "display_data"
    }
   ],
   "source": [
    "print(\"Recipes chosen by the user:\")\n",
    "display(trainingSet[['name']].head())"
   ]
  },
  {
   "cell_type": "code",
   "execution_count": null,
   "id": "6e0ca710",
   "metadata": {},
   "outputs": [],
   "source": [
    "trainingSet = trainingSet.select_dtypes(exclude=[\"object\"])"
   ]
  },
  {
   "cell_type": "code",
   "execution_count": null,
   "id": "4ceb8704",
   "metadata": {},
   "outputs": [],
   "source": [
    "class SoftSet:\n",
    "    @staticmethod\n",
    "    def addSumsColumn(validatingSet, meanVector):\n",
    "        sums = []\n",
    "        testingSet = validatingSet.select_dtypes(exclude=[\"object\"])\n",
    "        for i in testingSet.values:\n",
    "            j = 0\n",
    "            sum = 0\n",
    "            for element in i:\n",
    "                sum += element*meanVector[j]\n",
    "                j += 1\n",
    "            sums.append(sum)\n",
    "        return sums\n",
    "    @staticmethod\n",
    "    def meanVector(trainingSet):\n",
    "        meanVector = []\n",
    "        for column in trainingSet:\n",
    "            columnValues = trainingSet[column].values\n",
    "            meanVector.append(round(sum(columnValues)/len(columnValues), 2))\n",
    "        return meanVector\n",
    "    @staticmethod\n",
    "    def calculateAccuracy(meanVector, validatingSetMeanVector):\n",
    "        vector = np.abs(np.subtract(meanVector, validatingSetMeanVector))\n",
    "        acc = sum(vector)/len(vector)\n",
    "        acc = 1 - acc\n",
    "        return acc"
   ]
  },
  {
   "cell_type": "code",
   "execution_count": null,
   "id": "01766c2c",
   "metadata": {},
   "outputs": [],
   "source": [
    "meanVector = SoftSet.meanVector(trainingSet)"
   ]
  },
  {
   "cell_type": "code",
   "execution_count": null,
   "id": "d0feed8e",
   "metadata": {},
   "outputs": [],
   "source": [
    "validatingSet['sums'] = SoftSet.addSumsColumn(validatingSet, meanVector)"
   ]
  },
  {
   "cell_type": "code",
   "execution_count": null,
   "id": "86b29ce5",
   "metadata": {},
   "outputs": [],
   "source": [
    "validatingSet = validatingSet.sort_values(by=\"sums\", ascending=False)"
   ]
  },
  {
   "cell_type": "code",
   "execution_count": null,
   "id": "21a926bb",
   "metadata": {},
   "outputs": [
    {
     "ename": "NameError",
     "evalue": "name 'validatingSet' is not defined",
     "output_type": "error",
     "traceback": [
      "\u001b[0;31m---------------------------------------------------------------------------\u001b[0m",
      "\u001b[0;31mNameError\u001b[0m                                 Traceback (most recent call last)",
      "Cell \u001b[0;32mIn[8], line 1\u001b[0m\n\u001b[0;32m----> 1\u001b[0m recommendations \u001b[39m=\u001b[39m validatingSet\u001b[39m.\u001b[39miloc[:, :\u001b[39m-\u001b[39m\u001b[39m1\u001b[39m]\u001b[39m.\u001b[39mhead(\u001b[39m15\u001b[39m)\n",
      "\u001b[0;31mNameError\u001b[0m: name 'validatingSet' is not defined"
     ]
    }
   ],
   "source": [
    "recommendations = validatingSet.iloc[:, :-1].head(15)"
   ]
  },
  {
   "cell_type": "code",
   "execution_count": null,
   "id": "f9eb08c0",
   "metadata": {},
   "outputs": [],
   "source": [
    "validatingSetMeanVector = SoftSet.meanVector(recommendations.select_dtypes(exclude=[\"object\"]))"
   ]
  },
  {
   "cell_type": "code",
   "execution_count": null,
   "id": "8f9012b3",
   "metadata": {
    "scrolled": true
   },
   "outputs": [
    {
     "name": "stdout",
     "output_type": "stream",
     "text": [
      "Recipes chosen by the recommender:\n"
     ]
    },
    {
     "data": {
      "text/html": [
       "<div>\n",
       "<style scoped>\n",
       "    .dataframe tbody tr th:only-of-type {\n",
       "        vertical-align: middle;\n",
       "    }\n",
       "\n",
       "    .dataframe tbody tr th {\n",
       "        vertical-align: top;\n",
       "    }\n",
       "\n",
       "    .dataframe thead th {\n",
       "        text-align: right;\n",
       "    }\n",
       "</style>\n",
       "<table border=\"1\" class=\"dataframe\">\n",
       "  <thead>\n",
       "    <tr style=\"text-align: right;\">\n",
       "      <th></th>\n",
       "      <th>name</th>\n",
       "    </tr>\n",
       "  </thead>\n",
       "  <tbody>\n",
       "    <tr>\n",
       "      <th>992</th>\n",
       "      <td>One-Pan Maple Rosemary Chicken</td>\n",
       "    </tr>\n",
       "    <tr>\n",
       "      <th>3491</th>\n",
       "      <td>Homemade Soft Pretzels</td>\n",
       "    </tr>\n",
       "    <tr>\n",
       "      <th>235</th>\n",
       "      <td>Time Saving Sheet-Pan Eggs</td>\n",
       "    </tr>\n",
       "    <tr>\n",
       "      <th>1107</th>\n",
       "      <td>Southwestern Veggie-Packed Tater Tot Casserole</td>\n",
       "    </tr>\n",
       "    <tr>\n",
       "      <th>3741</th>\n",
       "      <td>Bacon-Wrapped Burger Ring</td>\n",
       "    </tr>\n",
       "  </tbody>\n",
       "</table>\n",
       "</div>"
      ],
      "text/plain": [
       "                                                name\n",
       "992                   One-Pan Maple Rosemary Chicken\n",
       "3491                          Homemade Soft Pretzels\n",
       "235                       Time Saving Sheet-Pan Eggs\n",
       "1107  Southwestern Veggie-Packed Tater Tot Casserole\n",
       "3741                       Bacon-Wrapped Burger Ring"
      ]
     },
     "metadata": {},
     "output_type": "display_data"
    }
   ],
   "source": [
    "print(\"Recipes chosen by the recommender:\")\n",
    "display(recommendations[['name']].head())"
   ]
  },
  {
   "cell_type": "code",
   "execution_count": null,
   "id": "4cddb56f",
   "metadata": {},
   "outputs": [
    {
     "name": "stdout",
     "output_type": "stream",
     "text": [
      "The accuracy is 93.81 %\n"
     ]
    }
   ],
   "source": [
    "acc = SoftSet.calculateAccuracy(meanVector, validatingSetMeanVector)\n",
    "print(\"The accuracy is\", round(acc*100, 2), \"%\")"
   ]
  }
 ],
 "metadata": {
  "kernelspec": {
   "display_name": "Python 3 (ipykernel)",
   "language": "python",
   "name": "python3"
  },
  "language_info": {
   "codemirror_mode": {
    "name": "ipython",
    "version": 3
   },
   "file_extension": ".py",
   "mimetype": "text/x-python",
   "name": "python",
   "nbconvert_exporter": "python",
   "pygments_lexer": "ipython3",
   "version": "3.10.8"
  }
 },
 "nbformat": 4,
 "nbformat_minor": 5
}
